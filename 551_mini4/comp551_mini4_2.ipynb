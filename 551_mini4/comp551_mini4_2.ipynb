{
  "nbformat": 4,
  "nbformat_minor": 0,
  "metadata": {
    "colab": {
      "name": "comp551_mini4",
      "provenance": [],
      "toc_visible": true,
      "collapsed_sections": []
    },
    "kernelspec": {
      "name": "python3",
      "display_name": "Python 3"
    },
    "language_info": {
      "name": "python"
    }
  },
  "cells": [
    {
      "cell_type": "markdown",
      "source": [
        "# Comp 551 : Mini Project 3\n"
      ],
      "metadata": {
        "id": "_VALrzyxdRme"
      }
    },
    {
      "cell_type": "markdown",
      "source": [
        "This notebook contains the code for algorithm implementation and experiments for MiniProject 4"
      ],
      "metadata": {
        "id": "ZIlNt9wldTGt"
      }
    },
    {
      "cell_type": "markdown",
      "source": [
        "Experiments to reproduce:\n",
        "\n",
        "- Figure 5 (knn accuracy for COIL-20 and PenDigits)\n",
        "- Table 1 (knn accuracy for COIL-20 and PenDigits)\n",
        " \n",
        "\n",
        "Datasets to use: \n",
        "\n",
        "- COIL-20\n",
        "- PenDigits\n",
        "\n",
        "\n",
        "Methods to use: \n",
        "- PCA\n",
        "- Laplacian Eigenmaps\n",
        "- LargeVis ( this was ommited due to large time of running)\n",
        "- t-SNE\n",
        "- UMAP\n"
      ],
      "metadata": {
        "id": "Zi3s6FE3DeyK"
      }
    },
    {
      "cell_type": "markdown",
      "source": [
        "# Install and loading required modules"
      ],
      "metadata": {
        "id": "knePE_QdAH4z"
      }
    },
    {
      "cell_type": "code",
      "source": [
        "!pip install umap-learn"
      ],
      "metadata": {
        "colab": {
          "base_uri": "https://localhost:8080/"
        },
        "id": "9IxgfLTAAHhF",
        "outputId": "2c2be3e3-0f6c-427d-aadf-e03fb3359b76"
      },
      "execution_count": null,
      "outputs": [
        {
          "output_type": "stream",
          "name": "stdout",
          "text": [
            "Collecting umap-learn\n",
            "  Downloading umap-learn-0.5.3.tar.gz (88 kB)\n",
            "\u001b[K     |████████████████████████████████| 88 kB 4.1 MB/s \n",
            "\u001b[?25hRequirement already satisfied: numpy>=1.17 in /usr/local/lib/python3.7/dist-packages (from umap-learn) (1.21.6)\n",
            "Requirement already satisfied: scikit-learn>=0.22 in /usr/local/lib/python3.7/dist-packages (from umap-learn) (1.0.2)\n",
            "Requirement already satisfied: scipy>=1.0 in /usr/local/lib/python3.7/dist-packages (from umap-learn) (1.4.1)\n",
            "Requirement already satisfied: numba>=0.49 in /usr/local/lib/python3.7/dist-packages (from umap-learn) (0.51.2)\n",
            "Collecting pynndescent>=0.5\n",
            "  Downloading pynndescent-0.5.6.tar.gz (1.1 MB)\n",
            "\u001b[K     |████████████████████████████████| 1.1 MB 17.8 MB/s \n",
            "\u001b[?25hRequirement already satisfied: tqdm in /usr/local/lib/python3.7/dist-packages (from umap-learn) (4.64.0)\n",
            "Requirement already satisfied: setuptools in /usr/local/lib/python3.7/dist-packages (from numba>=0.49->umap-learn) (57.4.0)\n",
            "Requirement already satisfied: llvmlite<0.35,>=0.34.0.dev0 in /usr/local/lib/python3.7/dist-packages (from numba>=0.49->umap-learn) (0.34.0)\n",
            "Requirement already satisfied: joblib>=0.11 in /usr/local/lib/python3.7/dist-packages (from pynndescent>=0.5->umap-learn) (1.1.0)\n",
            "Requirement already satisfied: threadpoolctl>=2.0.0 in /usr/local/lib/python3.7/dist-packages (from scikit-learn>=0.22->umap-learn) (3.1.0)\n",
            "Building wheels for collected packages: umap-learn, pynndescent\n",
            "  Building wheel for umap-learn (setup.py) ... \u001b[?25l\u001b[?25hdone\n",
            "  Created wheel for umap-learn: filename=umap_learn-0.5.3-py3-none-any.whl size=82829 sha256=59a70d5758b59aeb77b96e870d4d69bbb694537d40395c20236ee8093f912b3b\n",
            "  Stored in directory: /root/.cache/pip/wheels/b3/52/a5/1fd9e3e76a7ab34f134c07469cd6f16e27ef3a37aeff1fe821\n",
            "  Building wheel for pynndescent (setup.py) ... \u001b[?25l\u001b[?25hdone\n",
            "  Created wheel for pynndescent: filename=pynndescent-0.5.6-py3-none-any.whl size=53943 sha256=a8870ab2cb00b41d08c23936d6a8f8cf11c9621391b0857e625bed4cdf9b7784\n",
            "  Stored in directory: /root/.cache/pip/wheels/03/f1/56/f80d72741e400345b5a5b50ec3d929aca581bf45e0225d5c50\n",
            "Successfully built umap-learn pynndescent\n",
            "Installing collected packages: pynndescent, umap-learn\n",
            "Successfully installed pynndescent-0.5.6 umap-learn-0.5.3\n"
          ]
        }
      ]
    },
    {
      "cell_type": "code",
      "source": [
        "!pip install --no-binary :all: nmslib\n"
      ],
      "metadata": {
        "id": "2NtwU1AV7eIO",
        "colab": {
          "base_uri": "https://localhost:8080/"
        },
        "outputId": "5488d014-ea8e-4a77-b8f9-bf7eca251053"
      },
      "execution_count": null,
      "outputs": [
        {
          "output_type": "stream",
          "name": "stdout",
          "text": [
            "Collecting nmslib\n",
            "  Downloading nmslib-2.1.1.tar.gz (188 kB)\n",
            "\u001b[K     |████████████████████████████████| 188 kB 10.2 MB/s \n",
            "\u001b[?25hCollecting pybind11<2.6.2\n",
            "  Downloading pybind11-2.6.1.tar.gz (171 kB)\n",
            "\u001b[K     |████████████████████████████████| 171 kB 39.0 MB/s \n",
            "\u001b[?25h  Installing build dependencies ... \u001b[?25l\u001b[?25hdone\n",
            "  Getting requirements to build wheel ... \u001b[?25l\u001b[?25hdone\n",
            "    Preparing wheel metadata ... \u001b[?25l\u001b[?25hdone\n",
            "Requirement already satisfied: psutil in /usr/local/lib/python3.7/dist-packages (from nmslib) (5.4.8)\n",
            "Requirement already satisfied: numpy>=1.10.0 in /usr/local/lib/python3.7/dist-packages (from nmslib) (1.21.6)\n",
            "Skipping wheel build for nmslib, due to binaries being disabled for it.\n",
            "Building wheels for collected packages: pybind11\n",
            "  Building wheel for pybind11 (PEP 517) ... \u001b[?25l\u001b[?25hdone\n",
            "  Created wheel for pybind11: filename=pybind11-2.6.1-py2.py3-none-any.whl size=188545 sha256=109faf60ebbcc617cb84d58bf8353682361a9a165a627c026c56aebd84a15ad0\n",
            "  Stored in directory: /root/.cache/pip/wheels/8b/b3/81/fca95a2eb5f25e99520a9439b905a79fe4ec1c7f56bddfff0c\n",
            "Successfully built pybind11\n",
            "Installing collected packages: pybind11, nmslib\n",
            "    Running setup.py install for nmslib ... \u001b[?25l\u001b[?25hdone\n",
            "Successfully installed nmslib-2.1.1 pybind11-2.6.1\n"
          ]
        }
      ]
    },
    {
      "cell_type": "code",
      "source": [
        "!pip install fastlapmap\n"
      ],
      "metadata": {
        "id": "Kgz8mUvi8iKx",
        "colab": {
          "base_uri": "https://localhost:8080/"
        },
        "outputId": "4ad3f6d0-3842-466e-c935-7b62c7cc6506"
      },
      "execution_count": null,
      "outputs": [
        {
          "output_type": "stream",
          "name": "stdout",
          "text": [
            "Collecting fastlapmap\n",
            "  Downloading fastlapmap-0.1.2-py3-none-any.whl (20 kB)\n",
            "Installing collected packages: fastlapmap\n",
            "Successfully installed fastlapmap-0.1.2\n"
          ]
        }
      ]
    },
    {
      "cell_type": "code",
      "source": [
        "import numpy as np\n",
        "from sklearn.model_selection import train_test_split\n",
        "from sklearn.preprocessing import StandardScaler\n",
        "import matplotlib.pyplot as plt\n",
        "import scipy.io\n",
        "import seaborn as sns\n",
        "import pandas as pd\n",
        "import umap\n",
        "import sklearn.datasets\n",
        "from sklearn.manifold import TSNE\n",
        "from sklearn.decomposition import PCA\n",
        "from fastlapmap import LapEigenmap\n",
        "from sklearn.neighbors import KNeighborsClassifier\n",
        "from sklearn.model_selection import cross_val_score\n",
        "\n",
        "%matplotlib inline\n",
        "\n",
        "sns.set(style='white', context='notebook', rc={'figure.figsize':(14,10)})\n"
      ],
      "metadata": {
        "id": "8b5mmKXZ_2SZ"
      },
      "execution_count": null,
      "outputs": []
    },
    {
      "cell_type": "markdown",
      "source": [
        "# Task 1: Acquire, preprocess, and analyze the data"
      ],
      "metadata": {
        "id": "G7qFiU9gdWwr"
      }
    },
    {
      "cell_type": "code",
      "source": [
        "class dataset:\n",
        "\n",
        "    def __init__(self, x, y, name):\n",
        "        self.x= x\n",
        "        self.y = y\n",
        "        self.name = name"
      ],
      "metadata": {
        "id": "WgrZpSunJBzB"
      },
      "execution_count": null,
      "outputs": []
    },
    {
      "cell_type": "markdown",
      "source": [
        "### Coil-20"
      ],
      "metadata": {
        "id": "Jy82a99lQWpk"
      }
    },
    {
      "cell_type": "code",
      "source": [
        "!wget https://jundongl.github.io/scikit-feature/files/datasets/COIL20.mat"
      ],
      "metadata": {
        "colab": {
          "base_uri": "https://localhost:8080/"
        },
        "id": "v9Nu4xgwOPLR",
        "outputId": "9512f2b5-c647-4099-8a8d-cb487350b144"
      },
      "execution_count": null,
      "outputs": [
        {
          "output_type": "stream",
          "name": "stdout",
          "text": [
            "--2022-04-26 18:02:58--  https://jundongl.github.io/scikit-feature/files/datasets/COIL20.mat\n",
            "Resolving jundongl.github.io (jundongl.github.io)... 185.199.108.153, 185.199.109.153, 185.199.110.153, ...\n",
            "Connecting to jundongl.github.io (jundongl.github.io)|185.199.108.153|:443... connected.\n",
            "HTTP request sent, awaiting response... 200 OK\n",
            "Length: 3024549 (2.9M) [application/octet-stream]\n",
            "Saving to: ‘COIL20.mat’\n",
            "\n",
            "COIL20.mat          100%[===================>]   2.88M  --.-KB/s    in 0.04s   \n",
            "\n",
            "2022-04-26 18:02:58 (77.4 MB/s) - ‘COIL20.mat’ saved [3024549/3024549]\n",
            "\n"
          ]
        }
      ]
    },
    {
      "cell_type": "code",
      "source": [
        "coil20 = scipy.io.loadmat(\"COIL20.mat\")"
      ],
      "metadata": {
        "id": "wqO3qSKhN-gK"
      },
      "execution_count": null,
      "outputs": []
    },
    {
      "cell_type": "code",
      "source": [
        "coil20['X']"
      ],
      "metadata": {
        "colab": {
          "base_uri": "https://localhost:8080/"
        },
        "id": "WRtBZ0_pOZlq",
        "outputId": "86c71174-b363-4499-dd19-7636c8931408"
      },
      "execution_count": null,
      "outputs": [
        {
          "output_type": "execute_result",
          "data": {
            "text/plain": [
              "array([[0.01568627, 0.01568627, 0.01568627, ..., 0.01568627, 0.01568627,\n",
              "        0.01568627],\n",
              "       [0.01960784, 0.01960784, 0.01960784, ..., 0.01960784, 0.01960784,\n",
              "        0.01960784],\n",
              "       [0.01568627, 0.01568627, 0.01568627, ..., 0.01568627, 0.01568627,\n",
              "        0.01568627],\n",
              "       ...,\n",
              "       [0.        , 0.        , 0.        , ..., 0.        , 0.        ,\n",
              "        0.        ],\n",
              "       [0.        , 0.        , 0.        , ..., 0.        , 0.        ,\n",
              "        0.        ],\n",
              "       [0.        , 0.        , 0.        , ..., 0.        , 0.        ,\n",
              "        0.        ]])"
            ]
          },
          "metadata": {},
          "execution_count": 8
        }
      ]
    },
    {
      "cell_type": "code",
      "source": [
        "coil20['Y'][:, 0] "
      ],
      "metadata": {
        "colab": {
          "base_uri": "https://localhost:8080/"
        },
        "id": "aKjywUDDQF_r",
        "outputId": "be6f6f81-97d2-400b-f162-9f0cdcad4030"
      },
      "execution_count": null,
      "outputs": [
        {
          "output_type": "execute_result",
          "data": {
            "text/plain": [
              "array([ 1,  1,  1, ..., 20, 20, 20], dtype=uint8)"
            ]
          },
          "metadata": {},
          "execution_count": 9
        }
      ]
    },
    {
      "cell_type": "code",
      "source": [
        "coil20=dataset(coil20['X'], coil20['Y'][:, 0], 'coil20' )"
      ],
      "metadata": {
        "id": "sodmlzp_JQx3"
      },
      "execution_count": null,
      "outputs": []
    },
    {
      "cell_type": "markdown",
      "source": [
        "### Pendigits"
      ],
      "metadata": {
        "id": "J5lRFuRkq_G9"
      }
    },
    {
      "cell_type": "code",
      "source": [
        "pendigits = sklearn.datasets.load_digits()"
      ],
      "metadata": {
        "id": "aP0jx2qqrKbN"
      },
      "execution_count": null,
      "outputs": []
    },
    {
      "cell_type": "code",
      "source": [
        "pendigits.target"
      ],
      "metadata": {
        "colab": {
          "base_uri": "https://localhost:8080/"
        },
        "id": "YZj8xbunuV3-",
        "outputId": "77e8bc28-66ef-44ff-9ddf-c4bfe705f044"
      },
      "execution_count": null,
      "outputs": [
        {
          "output_type": "execute_result",
          "data": {
            "text/plain": [
              "array([0, 1, 2, ..., 8, 9, 8])"
            ]
          },
          "metadata": {},
          "execution_count": 12
        }
      ]
    },
    {
      "cell_type": "code",
      "source": [
        "pendigits.data"
      ],
      "metadata": {
        "colab": {
          "base_uri": "https://localhost:8080/"
        },
        "id": "JlQHEFycrgYL",
        "outputId": "8aa10085-c233-42f7-e891-6a4a1474b45c"
      },
      "execution_count": null,
      "outputs": [
        {
          "output_type": "execute_result",
          "data": {
            "text/plain": [
              "array([[ 0.,  0.,  5., ...,  0.,  0.,  0.],\n",
              "       [ 0.,  0.,  0., ..., 10.,  0.,  0.],\n",
              "       [ 0.,  0.,  0., ..., 16.,  9.,  0.],\n",
              "       ...,\n",
              "       [ 0.,  0.,  1., ...,  6.,  0.,  0.],\n",
              "       [ 0.,  0.,  2., ..., 12.,  0.,  0.],\n",
              "       [ 0.,  0., 10., ..., 12.,  1.,  0.]])"
            ]
          },
          "metadata": {},
          "execution_count": 13
        }
      ]
    },
    {
      "cell_type": "code",
      "source": [
        "pendigits=dataset(pendigits.data, pendigits.target, 'pendigits')"
      ],
      "metadata": {
        "id": "YNfTM_XKJf5I"
      },
      "execution_count": null,
      "outputs": []
    },
    {
      "cell_type": "markdown",
      "source": [
        "### MNIST"
      ],
      "metadata": {
        "id": "LsdLMxb5w_ZG"
      }
    },
    {
      "cell_type": "code",
      "source": [
        "mnist = sklearn.datasets.fetch_openml('mnist_784')"
      ],
      "metadata": {
        "id": "EYfJzEqKxA3Q"
      },
      "execution_count": null,
      "outputs": []
    },
    {
      "cell_type": "code",
      "source": [
        "mnist.data"
      ],
      "metadata": {
        "colab": {
          "base_uri": "https://localhost:8080/"
        },
        "id": "Szx82NHSxUpO",
        "outputId": "725f6b4a-c314-44c6-f739-2a21b9c66a38"
      },
      "execution_count": null,
      "outputs": [
        {
          "output_type": "execute_result",
          "data": {
            "text/plain": [
              "       pixel1  pixel2  pixel3  pixel4  pixel5  pixel6  pixel7  pixel8  pixel9  \\\n",
              "0         0.0     0.0     0.0     0.0     0.0     0.0     0.0     0.0     0.0   \n",
              "1         0.0     0.0     0.0     0.0     0.0     0.0     0.0     0.0     0.0   \n",
              "2         0.0     0.0     0.0     0.0     0.0     0.0     0.0     0.0     0.0   \n",
              "3         0.0     0.0     0.0     0.0     0.0     0.0     0.0     0.0     0.0   \n",
              "4         0.0     0.0     0.0     0.0     0.0     0.0     0.0     0.0     0.0   \n",
              "...       ...     ...     ...     ...     ...     ...     ...     ...     ...   \n",
              "69995     0.0     0.0     0.0     0.0     0.0     0.0     0.0     0.0     0.0   \n",
              "69996     0.0     0.0     0.0     0.0     0.0     0.0     0.0     0.0     0.0   \n",
              "69997     0.0     0.0     0.0     0.0     0.0     0.0     0.0     0.0     0.0   \n",
              "69998     0.0     0.0     0.0     0.0     0.0     0.0     0.0     0.0     0.0   \n",
              "69999     0.0     0.0     0.0     0.0     0.0     0.0     0.0     0.0     0.0   \n",
              "\n",
              "       pixel10  ...  pixel775  pixel776  pixel777  pixel778  pixel779  \\\n",
              "0          0.0  ...       0.0       0.0       0.0       0.0       0.0   \n",
              "1          0.0  ...       0.0       0.0       0.0       0.0       0.0   \n",
              "2          0.0  ...       0.0       0.0       0.0       0.0       0.0   \n",
              "3          0.0  ...       0.0       0.0       0.0       0.0       0.0   \n",
              "4          0.0  ...       0.0       0.0       0.0       0.0       0.0   \n",
              "...        ...  ...       ...       ...       ...       ...       ...   \n",
              "69995      0.0  ...       0.0       0.0       0.0       0.0       0.0   \n",
              "69996      0.0  ...       0.0       0.0       0.0       0.0       0.0   \n",
              "69997      0.0  ...       0.0       0.0       0.0       0.0       0.0   \n",
              "69998      0.0  ...       0.0       0.0       0.0       0.0       0.0   \n",
              "69999      0.0  ...       0.0       0.0       0.0       0.0       0.0   \n",
              "\n",
              "       pixel780  pixel781  pixel782  pixel783  pixel784  \n",
              "0           0.0       0.0       0.0       0.0       0.0  \n",
              "1           0.0       0.0       0.0       0.0       0.0  \n",
              "2           0.0       0.0       0.0       0.0       0.0  \n",
              "3           0.0       0.0       0.0       0.0       0.0  \n",
              "4           0.0       0.0       0.0       0.0       0.0  \n",
              "...         ...       ...       ...       ...       ...  \n",
              "69995       0.0       0.0       0.0       0.0       0.0  \n",
              "69996       0.0       0.0       0.0       0.0       0.0  \n",
              "69997       0.0       0.0       0.0       0.0       0.0  \n",
              "69998       0.0       0.0       0.0       0.0       0.0  \n",
              "69999       0.0       0.0       0.0       0.0       0.0  \n",
              "\n",
              "[70000 rows x 784 columns]"
            ],
            "text/html": [
              "\n",
              "  <div id=\"df-4b0e1876-ceb8-4d9e-890a-c5f2061d0a7c\">\n",
              "    <div class=\"colab-df-container\">\n",
              "      <div>\n",
              "<style scoped>\n",
              "    .dataframe tbody tr th:only-of-type {\n",
              "        vertical-align: middle;\n",
              "    }\n",
              "\n",
              "    .dataframe tbody tr th {\n",
              "        vertical-align: top;\n",
              "    }\n",
              "\n",
              "    .dataframe thead th {\n",
              "        text-align: right;\n",
              "    }\n",
              "</style>\n",
              "<table border=\"1\" class=\"dataframe\">\n",
              "  <thead>\n",
              "    <tr style=\"text-align: right;\">\n",
              "      <th></th>\n",
              "      <th>pixel1</th>\n",
              "      <th>pixel2</th>\n",
              "      <th>pixel3</th>\n",
              "      <th>pixel4</th>\n",
              "      <th>pixel5</th>\n",
              "      <th>pixel6</th>\n",
              "      <th>pixel7</th>\n",
              "      <th>pixel8</th>\n",
              "      <th>pixel9</th>\n",
              "      <th>pixel10</th>\n",
              "      <th>...</th>\n",
              "      <th>pixel775</th>\n",
              "      <th>pixel776</th>\n",
              "      <th>pixel777</th>\n",
              "      <th>pixel778</th>\n",
              "      <th>pixel779</th>\n",
              "      <th>pixel780</th>\n",
              "      <th>pixel781</th>\n",
              "      <th>pixel782</th>\n",
              "      <th>pixel783</th>\n",
              "      <th>pixel784</th>\n",
              "    </tr>\n",
              "  </thead>\n",
              "  <tbody>\n",
              "    <tr>\n",
              "      <th>0</th>\n",
              "      <td>0.0</td>\n",
              "      <td>0.0</td>\n",
              "      <td>0.0</td>\n",
              "      <td>0.0</td>\n",
              "      <td>0.0</td>\n",
              "      <td>0.0</td>\n",
              "      <td>0.0</td>\n",
              "      <td>0.0</td>\n",
              "      <td>0.0</td>\n",
              "      <td>0.0</td>\n",
              "      <td>...</td>\n",
              "      <td>0.0</td>\n",
              "      <td>0.0</td>\n",
              "      <td>0.0</td>\n",
              "      <td>0.0</td>\n",
              "      <td>0.0</td>\n",
              "      <td>0.0</td>\n",
              "      <td>0.0</td>\n",
              "      <td>0.0</td>\n",
              "      <td>0.0</td>\n",
              "      <td>0.0</td>\n",
              "    </tr>\n",
              "    <tr>\n",
              "      <th>1</th>\n",
              "      <td>0.0</td>\n",
              "      <td>0.0</td>\n",
              "      <td>0.0</td>\n",
              "      <td>0.0</td>\n",
              "      <td>0.0</td>\n",
              "      <td>0.0</td>\n",
              "      <td>0.0</td>\n",
              "      <td>0.0</td>\n",
              "      <td>0.0</td>\n",
              "      <td>0.0</td>\n",
              "      <td>...</td>\n",
              "      <td>0.0</td>\n",
              "      <td>0.0</td>\n",
              "      <td>0.0</td>\n",
              "      <td>0.0</td>\n",
              "      <td>0.0</td>\n",
              "      <td>0.0</td>\n",
              "      <td>0.0</td>\n",
              "      <td>0.0</td>\n",
              "      <td>0.0</td>\n",
              "      <td>0.0</td>\n",
              "    </tr>\n",
              "    <tr>\n",
              "      <th>2</th>\n",
              "      <td>0.0</td>\n",
              "      <td>0.0</td>\n",
              "      <td>0.0</td>\n",
              "      <td>0.0</td>\n",
              "      <td>0.0</td>\n",
              "      <td>0.0</td>\n",
              "      <td>0.0</td>\n",
              "      <td>0.0</td>\n",
              "      <td>0.0</td>\n",
              "      <td>0.0</td>\n",
              "      <td>...</td>\n",
              "      <td>0.0</td>\n",
              "      <td>0.0</td>\n",
              "      <td>0.0</td>\n",
              "      <td>0.0</td>\n",
              "      <td>0.0</td>\n",
              "      <td>0.0</td>\n",
              "      <td>0.0</td>\n",
              "      <td>0.0</td>\n",
              "      <td>0.0</td>\n",
              "      <td>0.0</td>\n",
              "    </tr>\n",
              "    <tr>\n",
              "      <th>3</th>\n",
              "      <td>0.0</td>\n",
              "      <td>0.0</td>\n",
              "      <td>0.0</td>\n",
              "      <td>0.0</td>\n",
              "      <td>0.0</td>\n",
              "      <td>0.0</td>\n",
              "      <td>0.0</td>\n",
              "      <td>0.0</td>\n",
              "      <td>0.0</td>\n",
              "      <td>0.0</td>\n",
              "      <td>...</td>\n",
              "      <td>0.0</td>\n",
              "      <td>0.0</td>\n",
              "      <td>0.0</td>\n",
              "      <td>0.0</td>\n",
              "      <td>0.0</td>\n",
              "      <td>0.0</td>\n",
              "      <td>0.0</td>\n",
              "      <td>0.0</td>\n",
              "      <td>0.0</td>\n",
              "      <td>0.0</td>\n",
              "    </tr>\n",
              "    <tr>\n",
              "      <th>4</th>\n",
              "      <td>0.0</td>\n",
              "      <td>0.0</td>\n",
              "      <td>0.0</td>\n",
              "      <td>0.0</td>\n",
              "      <td>0.0</td>\n",
              "      <td>0.0</td>\n",
              "      <td>0.0</td>\n",
              "      <td>0.0</td>\n",
              "      <td>0.0</td>\n",
              "      <td>0.0</td>\n",
              "      <td>...</td>\n",
              "      <td>0.0</td>\n",
              "      <td>0.0</td>\n",
              "      <td>0.0</td>\n",
              "      <td>0.0</td>\n",
              "      <td>0.0</td>\n",
              "      <td>0.0</td>\n",
              "      <td>0.0</td>\n",
              "      <td>0.0</td>\n",
              "      <td>0.0</td>\n",
              "      <td>0.0</td>\n",
              "    </tr>\n",
              "    <tr>\n",
              "      <th>...</th>\n",
              "      <td>...</td>\n",
              "      <td>...</td>\n",
              "      <td>...</td>\n",
              "      <td>...</td>\n",
              "      <td>...</td>\n",
              "      <td>...</td>\n",
              "      <td>...</td>\n",
              "      <td>...</td>\n",
              "      <td>...</td>\n",
              "      <td>...</td>\n",
              "      <td>...</td>\n",
              "      <td>...</td>\n",
              "      <td>...</td>\n",
              "      <td>...</td>\n",
              "      <td>...</td>\n",
              "      <td>...</td>\n",
              "      <td>...</td>\n",
              "      <td>...</td>\n",
              "      <td>...</td>\n",
              "      <td>...</td>\n",
              "      <td>...</td>\n",
              "    </tr>\n",
              "    <tr>\n",
              "      <th>69995</th>\n",
              "      <td>0.0</td>\n",
              "      <td>0.0</td>\n",
              "      <td>0.0</td>\n",
              "      <td>0.0</td>\n",
              "      <td>0.0</td>\n",
              "      <td>0.0</td>\n",
              "      <td>0.0</td>\n",
              "      <td>0.0</td>\n",
              "      <td>0.0</td>\n",
              "      <td>0.0</td>\n",
              "      <td>...</td>\n",
              "      <td>0.0</td>\n",
              "      <td>0.0</td>\n",
              "      <td>0.0</td>\n",
              "      <td>0.0</td>\n",
              "      <td>0.0</td>\n",
              "      <td>0.0</td>\n",
              "      <td>0.0</td>\n",
              "      <td>0.0</td>\n",
              "      <td>0.0</td>\n",
              "      <td>0.0</td>\n",
              "    </tr>\n",
              "    <tr>\n",
              "      <th>69996</th>\n",
              "      <td>0.0</td>\n",
              "      <td>0.0</td>\n",
              "      <td>0.0</td>\n",
              "      <td>0.0</td>\n",
              "      <td>0.0</td>\n",
              "      <td>0.0</td>\n",
              "      <td>0.0</td>\n",
              "      <td>0.0</td>\n",
              "      <td>0.0</td>\n",
              "      <td>0.0</td>\n",
              "      <td>...</td>\n",
              "      <td>0.0</td>\n",
              "      <td>0.0</td>\n",
              "      <td>0.0</td>\n",
              "      <td>0.0</td>\n",
              "      <td>0.0</td>\n",
              "      <td>0.0</td>\n",
              "      <td>0.0</td>\n",
              "      <td>0.0</td>\n",
              "      <td>0.0</td>\n",
              "      <td>0.0</td>\n",
              "    </tr>\n",
              "    <tr>\n",
              "      <th>69997</th>\n",
              "      <td>0.0</td>\n",
              "      <td>0.0</td>\n",
              "      <td>0.0</td>\n",
              "      <td>0.0</td>\n",
              "      <td>0.0</td>\n",
              "      <td>0.0</td>\n",
              "      <td>0.0</td>\n",
              "      <td>0.0</td>\n",
              "      <td>0.0</td>\n",
              "      <td>0.0</td>\n",
              "      <td>...</td>\n",
              "      <td>0.0</td>\n",
              "      <td>0.0</td>\n",
              "      <td>0.0</td>\n",
              "      <td>0.0</td>\n",
              "      <td>0.0</td>\n",
              "      <td>0.0</td>\n",
              "      <td>0.0</td>\n",
              "      <td>0.0</td>\n",
              "      <td>0.0</td>\n",
              "      <td>0.0</td>\n",
              "    </tr>\n",
              "    <tr>\n",
              "      <th>69998</th>\n",
              "      <td>0.0</td>\n",
              "      <td>0.0</td>\n",
              "      <td>0.0</td>\n",
              "      <td>0.0</td>\n",
              "      <td>0.0</td>\n",
              "      <td>0.0</td>\n",
              "      <td>0.0</td>\n",
              "      <td>0.0</td>\n",
              "      <td>0.0</td>\n",
              "      <td>0.0</td>\n",
              "      <td>...</td>\n",
              "      <td>0.0</td>\n",
              "      <td>0.0</td>\n",
              "      <td>0.0</td>\n",
              "      <td>0.0</td>\n",
              "      <td>0.0</td>\n",
              "      <td>0.0</td>\n",
              "      <td>0.0</td>\n",
              "      <td>0.0</td>\n",
              "      <td>0.0</td>\n",
              "      <td>0.0</td>\n",
              "    </tr>\n",
              "    <tr>\n",
              "      <th>69999</th>\n",
              "      <td>0.0</td>\n",
              "      <td>0.0</td>\n",
              "      <td>0.0</td>\n",
              "      <td>0.0</td>\n",
              "      <td>0.0</td>\n",
              "      <td>0.0</td>\n",
              "      <td>0.0</td>\n",
              "      <td>0.0</td>\n",
              "      <td>0.0</td>\n",
              "      <td>0.0</td>\n",
              "      <td>...</td>\n",
              "      <td>0.0</td>\n",
              "      <td>0.0</td>\n",
              "      <td>0.0</td>\n",
              "      <td>0.0</td>\n",
              "      <td>0.0</td>\n",
              "      <td>0.0</td>\n",
              "      <td>0.0</td>\n",
              "      <td>0.0</td>\n",
              "      <td>0.0</td>\n",
              "      <td>0.0</td>\n",
              "    </tr>\n",
              "  </tbody>\n",
              "</table>\n",
              "<p>70000 rows × 784 columns</p>\n",
              "</div>\n",
              "      <button class=\"colab-df-convert\" onclick=\"convertToInteractive('df-4b0e1876-ceb8-4d9e-890a-c5f2061d0a7c')\"\n",
              "              title=\"Convert this dataframe to an interactive table.\"\n",
              "              style=\"display:none;\">\n",
              "        \n",
              "  <svg xmlns=\"http://www.w3.org/2000/svg\" height=\"24px\"viewBox=\"0 0 24 24\"\n",
              "       width=\"24px\">\n",
              "    <path d=\"M0 0h24v24H0V0z\" fill=\"none\"/>\n",
              "    <path d=\"M18.56 5.44l.94 2.06.94-2.06 2.06-.94-2.06-.94-.94-2.06-.94 2.06-2.06.94zm-11 1L8.5 8.5l.94-2.06 2.06-.94-2.06-.94L8.5 2.5l-.94 2.06-2.06.94zm10 10l.94 2.06.94-2.06 2.06-.94-2.06-.94-.94-2.06-.94 2.06-2.06.94z\"/><path d=\"M17.41 7.96l-1.37-1.37c-.4-.4-.92-.59-1.43-.59-.52 0-1.04.2-1.43.59L10.3 9.45l-7.72 7.72c-.78.78-.78 2.05 0 2.83L4 21.41c.39.39.9.59 1.41.59.51 0 1.02-.2 1.41-.59l7.78-7.78 2.81-2.81c.8-.78.8-2.07 0-2.86zM5.41 20L4 18.59l7.72-7.72 1.47 1.35L5.41 20z\"/>\n",
              "  </svg>\n",
              "      </button>\n",
              "      \n",
              "  <style>\n",
              "    .colab-df-container {\n",
              "      display:flex;\n",
              "      flex-wrap:wrap;\n",
              "      gap: 12px;\n",
              "    }\n",
              "\n",
              "    .colab-df-convert {\n",
              "      background-color: #E8F0FE;\n",
              "      border: none;\n",
              "      border-radius: 50%;\n",
              "      cursor: pointer;\n",
              "      display: none;\n",
              "      fill: #1967D2;\n",
              "      height: 32px;\n",
              "      padding: 0 0 0 0;\n",
              "      width: 32px;\n",
              "    }\n",
              "\n",
              "    .colab-df-convert:hover {\n",
              "      background-color: #E2EBFA;\n",
              "      box-shadow: 0px 1px 2px rgba(60, 64, 67, 0.3), 0px 1px 3px 1px rgba(60, 64, 67, 0.15);\n",
              "      fill: #174EA6;\n",
              "    }\n",
              "\n",
              "    [theme=dark] .colab-df-convert {\n",
              "      background-color: #3B4455;\n",
              "      fill: #D2E3FC;\n",
              "    }\n",
              "\n",
              "    [theme=dark] .colab-df-convert:hover {\n",
              "      background-color: #434B5C;\n",
              "      box-shadow: 0px 1px 3px 1px rgba(0, 0, 0, 0.15);\n",
              "      filter: drop-shadow(0px 1px 2px rgba(0, 0, 0, 0.3));\n",
              "      fill: #FFFFFF;\n",
              "    }\n",
              "  </style>\n",
              "\n",
              "      <script>\n",
              "        const buttonEl =\n",
              "          document.querySelector('#df-4b0e1876-ceb8-4d9e-890a-c5f2061d0a7c button.colab-df-convert');\n",
              "        buttonEl.style.display =\n",
              "          google.colab.kernel.accessAllowed ? 'block' : 'none';\n",
              "\n",
              "        async function convertToInteractive(key) {\n",
              "          const element = document.querySelector('#df-4b0e1876-ceb8-4d9e-890a-c5f2061d0a7c');\n",
              "          const dataTable =\n",
              "            await google.colab.kernel.invokeFunction('convertToInteractive',\n",
              "                                                     [key], {});\n",
              "          if (!dataTable) return;\n",
              "\n",
              "          const docLinkHtml = 'Like what you see? Visit the ' +\n",
              "            '<a target=\"_blank\" href=https://colab.research.google.com/notebooks/data_table.ipynb>data table notebook</a>'\n",
              "            + ' to learn more about interactive tables.';\n",
              "          element.innerHTML = '';\n",
              "          dataTable['output_type'] = 'display_data';\n",
              "          await google.colab.output.renderOutput(dataTable, element);\n",
              "          const docLink = document.createElement('div');\n",
              "          docLink.innerHTML = docLinkHtml;\n",
              "          element.appendChild(docLink);\n",
              "        }\n",
              "      </script>\n",
              "    </div>\n",
              "  </div>\n",
              "  "
            ]
          },
          "metadata": {},
          "execution_count": 16
        }
      ]
    },
    {
      "cell_type": "code",
      "source": [
        "mnist.target = np.array([int(x) for x in mnist.target.to_numpy()])\n",
        "mnist.target"
      ],
      "metadata": {
        "colab": {
          "base_uri": "https://localhost:8080/"
        },
        "id": "vKKVirOFxdoh",
        "outputId": "6fa287bc-8af0-4f71-f7db-373a2ecd6cf2"
      },
      "execution_count": null,
      "outputs": [
        {
          "output_type": "execute_result",
          "data": {
            "text/plain": [
              "array([5, 0, 4, ..., 4, 5, 6])"
            ]
          },
          "metadata": {},
          "execution_count": 17
        }
      ]
    },
    {
      "cell_type": "code",
      "source": [
        "mnist= dataset(mnist.data, mnist.target, 'mnist')"
      ],
      "metadata": {
        "id": "paKWErueKBQv"
      },
      "execution_count": null,
      "outputs": []
    },
    {
      "cell_type": "markdown",
      "source": [
        "# Task 2: Run the experiments"
      ],
      "metadata": {
        "id": "-SNOU6Ufdg2m"
      }
    },
    {
      "cell_type": "markdown",
      "source": [
        "## KNN accuracy for COIL-20 and PenDigits"
      ],
      "metadata": {
        "id": "1CgfRsKaKo1x"
      }
    },
    {
      "cell_type": "code",
      "source": [
        "def get_embeddings(obj):\n",
        "  # dictionary of embeddings\n",
        "  embeddings={}\n",
        "  # pca\n",
        "  embeddings['pca'] = PCA(n_components=2).fit_transform(obj.x)\n",
        "  # laplacian eigenmaps\n",
        "  embeddings['laplacian'] = LapEigenmap(obj.x, n_eigs=2, similarity='diffusion', norm_laplacian=True, k=10, n_jobs=10) \n",
        "  # tsne\n",
        "  embeddings['tsne'] = TSNE(n_components=2, learning_rate='auto', init='random').fit_transform(obj.x)\n",
        "  # umap\n",
        "  reducer = umap.UMAP(random_state=42)\n",
        "  embeddings['umap'] = reducer.fit_transform(obj.x)\n",
        "  return embeddings"
      ],
      "metadata": {
        "id": "htyQzjFpfwCs"
      },
      "execution_count": null,
      "outputs": []
    },
    {
      "cell_type": "code",
      "source": [
        "def knn_accuracy(obj, embeddings, k, cv):\n",
        "  # df of accuracies\n",
        "  lis_accuracies=[]\n",
        "  for method in embeddings.keys():\n",
        "    # df of accuracies\n",
        "    accuracies=pd.DataFrame()\n",
        "    accuracies['dataset'] = [obj.name] * cv\n",
        "    accuracies['k'] = [k] * cv\n",
        "    accuracies['method'] = [method] * cv\n",
        "    embedding=embeddings[method]\n",
        "    # knn\n",
        "    neigh = KNeighborsClassifier(n_neighbors=k)\n",
        "    scores = cross_val_score(neigh, embedding, obj.y, cv=cv)\n",
        "    accuracies['accuracy'] = scores\n",
        "    lis_accuracies.append(accuracies)\n",
        "  accuracies=pd.concat(lis_accuracies)\n",
        "  return accuracies\n"
      ],
      "metadata": {
        "id": "RpfWQDQeKVph"
      },
      "execution_count": null,
      "outputs": []
    },
    {
      "cell_type": "code",
      "source": [
        "cv =10 # 10-fold CV\n",
        "lis_accuracies=[]\n",
        "lis_k=[10,20,40,80,160]\n",
        "lis_obj=[coil20, pendigits]\n",
        "embeddings={}\n",
        "\n",
        "for obj in lis_obj:\n",
        "  print(obj.name)\n",
        "  embeddings[obj.name]=get_embeddings(obj)\n",
        "  for k in lis_k:\n",
        "    lis_accuracies.append(knn_accuracy(obj,embeddings[obj.name], k, cv))"
      ],
      "metadata": {
        "colab": {
          "base_uri": "https://localhost:8080/"
        },
        "id": "jlFRFta8XK2B",
        "outputId": "7fbed350-e824-49f5-e970-c6d1623abf59"
      },
      "execution_count": null,
      "outputs": [
        {
          "output_type": "stream",
          "name": "stdout",
          "text": [
            "coil20\n"
          ]
        },
        {
          "output_type": "stream",
          "name": "stderr",
          "text": [
            "/usr/local/lib/python3.7/dist-packages/numba/np/ufunc/parallel.py:363: NumbaWarning: The TBB threading layer requires TBB version 2019.5 or later i.e., TBB_INTERFACE_VERSION >= 11005. Found TBB_INTERFACE_VERSION = 9107. The TBB threading layer is disabled.\n",
            "  warnings.warn(problem)\n"
          ]
        },
        {
          "output_type": "stream",
          "name": "stdout",
          "text": [
            "pendigits\n"
          ]
        }
      ]
    },
    {
      "cell_type": "code",
      "source": [
        "accuracies= pd.concat(lis_accuracies)\n"
      ],
      "metadata": {
        "id": "v00njkHWYsBR"
      },
      "execution_count": null,
      "outputs": []
    },
    {
      "cell_type": "code",
      "source": [
        "accuracies"
      ],
      "metadata": {
        "colab": {
          "base_uri": "https://localhost:8080/",
          "height": 424
        },
        "id": "3juM61rjErJa",
        "outputId": "15f7a2ee-70f7-4d77-d845-57cc95cab5e9"
      },
      "execution_count": null,
      "outputs": [
        {
          "output_type": "execute_result",
          "data": {
            "text/plain": [
              "      dataset    k method  accuracy\n",
              "0      coil20   10    pca  0.743056\n",
              "1      coil20   10    pca  0.500000\n",
              "2      coil20   10    pca  0.590278\n",
              "3      coil20   10    pca  0.562500\n",
              "4      coil20   10    pca  0.756944\n",
              "..        ...  ...    ...       ...\n",
              "5   pendigits  160   umap  0.916667\n",
              "6   pendigits  160   umap  0.988889\n",
              "7   pendigits  160   umap  0.994413\n",
              "8   pendigits  160   umap  0.938547\n",
              "9   pendigits  160   umap  0.972067\n",
              "\n",
              "[400 rows x 4 columns]"
            ],
            "text/html": [
              "\n",
              "  <div id=\"df-52c7c6c9-460e-4cfe-af5f-71d60b3a016a\">\n",
              "    <div class=\"colab-df-container\">\n",
              "      <div>\n",
              "<style scoped>\n",
              "    .dataframe tbody tr th:only-of-type {\n",
              "        vertical-align: middle;\n",
              "    }\n",
              "\n",
              "    .dataframe tbody tr th {\n",
              "        vertical-align: top;\n",
              "    }\n",
              "\n",
              "    .dataframe thead th {\n",
              "        text-align: right;\n",
              "    }\n",
              "</style>\n",
              "<table border=\"1\" class=\"dataframe\">\n",
              "  <thead>\n",
              "    <tr style=\"text-align: right;\">\n",
              "      <th></th>\n",
              "      <th>dataset</th>\n",
              "      <th>k</th>\n",
              "      <th>method</th>\n",
              "      <th>accuracy</th>\n",
              "    </tr>\n",
              "  </thead>\n",
              "  <tbody>\n",
              "    <tr>\n",
              "      <th>0</th>\n",
              "      <td>coil20</td>\n",
              "      <td>10</td>\n",
              "      <td>pca</td>\n",
              "      <td>0.743056</td>\n",
              "    </tr>\n",
              "    <tr>\n",
              "      <th>1</th>\n",
              "      <td>coil20</td>\n",
              "      <td>10</td>\n",
              "      <td>pca</td>\n",
              "      <td>0.500000</td>\n",
              "    </tr>\n",
              "    <tr>\n",
              "      <th>2</th>\n",
              "      <td>coil20</td>\n",
              "      <td>10</td>\n",
              "      <td>pca</td>\n",
              "      <td>0.590278</td>\n",
              "    </tr>\n",
              "    <tr>\n",
              "      <th>3</th>\n",
              "      <td>coil20</td>\n",
              "      <td>10</td>\n",
              "      <td>pca</td>\n",
              "      <td>0.562500</td>\n",
              "    </tr>\n",
              "    <tr>\n",
              "      <th>4</th>\n",
              "      <td>coil20</td>\n",
              "      <td>10</td>\n",
              "      <td>pca</td>\n",
              "      <td>0.756944</td>\n",
              "    </tr>\n",
              "    <tr>\n",
              "      <th>...</th>\n",
              "      <td>...</td>\n",
              "      <td>...</td>\n",
              "      <td>...</td>\n",
              "      <td>...</td>\n",
              "    </tr>\n",
              "    <tr>\n",
              "      <th>5</th>\n",
              "      <td>pendigits</td>\n",
              "      <td>160</td>\n",
              "      <td>umap</td>\n",
              "      <td>0.916667</td>\n",
              "    </tr>\n",
              "    <tr>\n",
              "      <th>6</th>\n",
              "      <td>pendigits</td>\n",
              "      <td>160</td>\n",
              "      <td>umap</td>\n",
              "      <td>0.988889</td>\n",
              "    </tr>\n",
              "    <tr>\n",
              "      <th>7</th>\n",
              "      <td>pendigits</td>\n",
              "      <td>160</td>\n",
              "      <td>umap</td>\n",
              "      <td>0.994413</td>\n",
              "    </tr>\n",
              "    <tr>\n",
              "      <th>8</th>\n",
              "      <td>pendigits</td>\n",
              "      <td>160</td>\n",
              "      <td>umap</td>\n",
              "      <td>0.938547</td>\n",
              "    </tr>\n",
              "    <tr>\n",
              "      <th>9</th>\n",
              "      <td>pendigits</td>\n",
              "      <td>160</td>\n",
              "      <td>umap</td>\n",
              "      <td>0.972067</td>\n",
              "    </tr>\n",
              "  </tbody>\n",
              "</table>\n",
              "<p>400 rows × 4 columns</p>\n",
              "</div>\n",
              "      <button class=\"colab-df-convert\" onclick=\"convertToInteractive('df-52c7c6c9-460e-4cfe-af5f-71d60b3a016a')\"\n",
              "              title=\"Convert this dataframe to an interactive table.\"\n",
              "              style=\"display:none;\">\n",
              "        \n",
              "  <svg xmlns=\"http://www.w3.org/2000/svg\" height=\"24px\"viewBox=\"0 0 24 24\"\n",
              "       width=\"24px\">\n",
              "    <path d=\"M0 0h24v24H0V0z\" fill=\"none\"/>\n",
              "    <path d=\"M18.56 5.44l.94 2.06.94-2.06 2.06-.94-2.06-.94-.94-2.06-.94 2.06-2.06.94zm-11 1L8.5 8.5l.94-2.06 2.06-.94-2.06-.94L8.5 2.5l-.94 2.06-2.06.94zm10 10l.94 2.06.94-2.06 2.06-.94-2.06-.94-.94-2.06-.94 2.06-2.06.94z\"/><path d=\"M17.41 7.96l-1.37-1.37c-.4-.4-.92-.59-1.43-.59-.52 0-1.04.2-1.43.59L10.3 9.45l-7.72 7.72c-.78.78-.78 2.05 0 2.83L4 21.41c.39.39.9.59 1.41.59.51 0 1.02-.2 1.41-.59l7.78-7.78 2.81-2.81c.8-.78.8-2.07 0-2.86zM5.41 20L4 18.59l7.72-7.72 1.47 1.35L5.41 20z\"/>\n",
              "  </svg>\n",
              "      </button>\n",
              "      \n",
              "  <style>\n",
              "    .colab-df-container {\n",
              "      display:flex;\n",
              "      flex-wrap:wrap;\n",
              "      gap: 12px;\n",
              "    }\n",
              "\n",
              "    .colab-df-convert {\n",
              "      background-color: #E8F0FE;\n",
              "      border: none;\n",
              "      border-radius: 50%;\n",
              "      cursor: pointer;\n",
              "      display: none;\n",
              "      fill: #1967D2;\n",
              "      height: 32px;\n",
              "      padding: 0 0 0 0;\n",
              "      width: 32px;\n",
              "    }\n",
              "\n",
              "    .colab-df-convert:hover {\n",
              "      background-color: #E2EBFA;\n",
              "      box-shadow: 0px 1px 2px rgba(60, 64, 67, 0.3), 0px 1px 3px 1px rgba(60, 64, 67, 0.15);\n",
              "      fill: #174EA6;\n",
              "    }\n",
              "\n",
              "    [theme=dark] .colab-df-convert {\n",
              "      background-color: #3B4455;\n",
              "      fill: #D2E3FC;\n",
              "    }\n",
              "\n",
              "    [theme=dark] .colab-df-convert:hover {\n",
              "      background-color: #434B5C;\n",
              "      box-shadow: 0px 1px 3px 1px rgba(0, 0, 0, 0.15);\n",
              "      filter: drop-shadow(0px 1px 2px rgba(0, 0, 0, 0.3));\n",
              "      fill: #FFFFFF;\n",
              "    }\n",
              "  </style>\n",
              "\n",
              "      <script>\n",
              "        const buttonEl =\n",
              "          document.querySelector('#df-52c7c6c9-460e-4cfe-af5f-71d60b3a016a button.colab-df-convert');\n",
              "        buttonEl.style.display =\n",
              "          google.colab.kernel.accessAllowed ? 'block' : 'none';\n",
              "\n",
              "        async function convertToInteractive(key) {\n",
              "          const element = document.querySelector('#df-52c7c6c9-460e-4cfe-af5f-71d60b3a016a');\n",
              "          const dataTable =\n",
              "            await google.colab.kernel.invokeFunction('convertToInteractive',\n",
              "                                                     [key], {});\n",
              "          if (!dataTable) return;\n",
              "\n",
              "          const docLinkHtml = 'Like what you see? Visit the ' +\n",
              "            '<a target=\"_blank\" href=https://colab.research.google.com/notebooks/data_table.ipynb>data table notebook</a>'\n",
              "            + ' to learn more about interactive tables.';\n",
              "          element.innerHTML = '';\n",
              "          dataTable['output_type'] = 'display_data';\n",
              "          await google.colab.output.renderOutput(dataTable, element);\n",
              "          const docLink = document.createElement('div');\n",
              "          docLink.innerHTML = docLinkHtml;\n",
              "          element.appendChild(docLink);\n",
              "        }\n",
              "      </script>\n",
              "    </div>\n",
              "  </div>\n",
              "  "
            ]
          },
          "metadata": {},
          "execution_count": 23
        }
      ]
    },
    {
      "cell_type": "code",
      "source": [
        "g = sns.FacetGrid(accuracies, col=\"k\",  row=\"dataset\")\n",
        "g.map(sns.stripplot, \"method\", \"accuracy\",\"method\", jitter=0.05, palette=\"tab10\")"
      ],
      "metadata": {
        "colab": {
          "base_uri": "https://localhost:8080/",
          "height": 544
        },
        "id": "1CUagO2pVd6t",
        "outputId": "50ca0924-44a5-411f-ed91-bbb373a153ba"
      },
      "execution_count": null,
      "outputs": [
        {
          "output_type": "stream",
          "name": "stderr",
          "text": [
            "/usr/local/lib/python3.7/dist-packages/seaborn/axisgrid.py:670: UserWarning: Using the stripplot function without specifying `order` is likely to produce an incorrect plot.\n",
            "  warnings.warn(warning)\n",
            "/usr/local/lib/python3.7/dist-packages/seaborn/axisgrid.py:675: UserWarning: Using the stripplot function without specifying `hue_order` is likely to produce an incorrect plot.\n",
            "  warnings.warn(warning)\n"
          ]
        },
        {
          "output_type": "execute_result",
          "data": {
            "text/plain": [
              "<seaborn.axisgrid.FacetGrid at 0x7fc54eacfd50>"
            ]
          },
          "metadata": {},
          "execution_count": 24
        },
        {
          "output_type": "display_data",
          "data": {
            "text/plain": [
              "<Figure size 1080x432 with 10 Axes>"
            ],
            "image/png": "[encoded data removed]"
          },
          "metadata": {}
        }
      ]
    },
    {
      "cell_type": "code",
      "source": [
        "lis_summaries=[]\n",
        "for dataset in ['coil20', 'pendigits']:\n",
        "  summary=pd.DataFrame()\n",
        "  summary['dataset'] = [dataset] * len(lis_k)\n",
        "  summary['k'] = lis_k\n",
        "  method='umap'\n",
        "  for method in ['pca', 'laplacian', 'tsne', 'umap']:\n",
        "    lis_values=[]\n",
        "    for k in lis_k:\n",
        "      temp=accuracies[(accuracies['k'] == k) & (accuracies['method'] == method) & (accuracies['dataset'] == dataset)]\n",
        "      lis_values.append( str(round(np.mean(temp.accuracy),3) ) + ' (+- ' +  str(round(np.std(temp.accuracy), 3)) + ')' )\n",
        "    summary[method] = lis_values\n",
        "  lis_summaries.append(summary)\n",
        "\n",
        "summary=pd.concat(lis_summaries)"
      ],
      "metadata": {
        "id": "woZblZy6Wrcg"
      },
      "execution_count": null,
      "outputs": []
    },
    {
      "cell_type": "code",
      "source": [
        "summary"
      ],
      "metadata": {
        "colab": {
          "base_uri": "https://localhost:8080/",
          "height": 363
        },
        "id": "PXif_g62cQLz",
        "outputId": "702d960b-5f30-4836-ecc2-9620a1aaa06c"
      },
      "execution_count": null,
      "outputs": [
        {
          "output_type": "execute_result",
          "data": {
            "text/plain": [
              "     dataset    k               pca         laplacian              tsne  \\\n",
              "0     coil20   10  0.644 (+- 0.109)   0.69 (+- 0.051)  0.941 (+- 0.051)   \n",
              "1     coil20   20  0.636 (+- 0.116)  0.694 (+- 0.057)  0.894 (+- 0.068)   \n",
              "2     coil20   40  0.608 (+- 0.125)  0.663 (+- 0.068)  0.861 (+- 0.063)   \n",
              "3     coil20   80  0.521 (+- 0.161)  0.601 (+- 0.044)  0.795 (+- 0.053)   \n",
              "4     coil20  160  0.378 (+- 0.073)  0.433 (+- 0.057)  0.574 (+- 0.059)   \n",
              "0  pendigits   10  0.622 (+- 0.041)  0.923 (+- 0.031)  0.974 (+- 0.023)   \n",
              "1  pendigits   20  0.632 (+- 0.039)  0.917 (+- 0.035)   0.977 (+- 0.02)   \n",
              "2  pendigits   40  0.635 (+- 0.034)  0.887 (+- 0.052)   0.953 (+- 0.03)   \n",
              "3  pendigits   80  0.647 (+- 0.036)  0.855 (+- 0.048)  0.951 (+- 0.029)   \n",
              "4  pendigits  160  0.631 (+- 0.046)  0.784 (+- 0.036)   0.947 (+- 0.03)   \n",
              "\n",
              "               umap  \n",
              "0   0.874 (+- 0.05)  \n",
              "1  0.865 (+- 0.042)  \n",
              "2   0.858 (+- 0.05)  \n",
              "3  0.837 (+- 0.046)  \n",
              "4  0.604 (+- 0.055)  \n",
              "0  0.979 (+- 0.018)  \n",
              "1  0.977 (+- 0.017)  \n",
              "2  0.952 (+- 0.031)  \n",
              "3    0.95 (+- 0.03)  \n",
              "4  0.951 (+- 0.031)  "
            ],
            "text/html": [
              "\n",
              "  <div id=\"df-29e6c0ac-1799-4542-b9ac-804c74cd3f03\">\n",
              "    <div class=\"colab-df-container\">\n",
              "      <div>\n",
              "<style scoped>\n",
              "    .dataframe tbody tr th:only-of-type {\n",
              "        vertical-align: middle;\n",
              "    }\n",
              "\n",
              "    .dataframe tbody tr th {\n",
              "        vertical-align: top;\n",
              "    }\n",
              "\n",
              "    .dataframe thead th {\n",
              "        text-align: right;\n",
              "    }\n",
              "</style>\n",
              "<table border=\"1\" class=\"dataframe\">\n",
              "  <thead>\n",
              "    <tr style=\"text-align: right;\">\n",
              "      <th></th>\n",
              "      <th>dataset</th>\n",
              "      <th>k</th>\n",
              "      <th>pca</th>\n",
              "      <th>laplacian</th>\n",
              "      <th>tsne</th>\n",
              "      <th>umap</th>\n",
              "    </tr>\n",
              "  </thead>\n",
              "  <tbody>\n",
              "    <tr>\n",
              "      <th>0</th>\n",
              "      <td>coil20</td>\n",
              "      <td>10</td>\n",
              "      <td>0.644 (+- 0.109)</td>\n",
              "      <td>0.69 (+- 0.051)</td>\n",
              "      <td>0.941 (+- 0.051)</td>\n",
              "      <td>0.874 (+- 0.05)</td>\n",
              "    </tr>\n",
              "    <tr>\n",
              "      <th>1</th>\n",
              "      <td>coil20</td>\n",
              "      <td>20</td>\n",
              "      <td>0.636 (+- 0.116)</td>\n",
              "      <td>0.694 (+- 0.057)</td>\n",
              "      <td>0.894 (+- 0.068)</td>\n",
              "      <td>0.865 (+- 0.042)</td>\n",
              "    </tr>\n",
              "    <tr>\n",
              "      <th>2</th>\n",
              "      <td>coil20</td>\n",
              "      <td>40</td>\n",
              "      <td>0.608 (+- 0.125)</td>\n",
              "      <td>0.663 (+- 0.068)</td>\n",
              "      <td>0.861 (+- 0.063)</td>\n",
              "      <td>0.858 (+- 0.05)</td>\n",
              "    </tr>\n",
              "    <tr>\n",
              "      <th>3</th>\n",
              "      <td>coil20</td>\n",
              "      <td>80</td>\n",
              "      <td>0.521 (+- 0.161)</td>\n",
              "      <td>0.601 (+- 0.044)</td>\n",
              "      <td>0.795 (+- 0.053)</td>\n",
              "      <td>0.837 (+- 0.046)</td>\n",
              "    </tr>\n",
              "    <tr>\n",
              "      <th>4</th>\n",
              "      <td>coil20</td>\n",
              "      <td>160</td>\n",
              "      <td>0.378 (+- 0.073)</td>\n",
              "      <td>0.433 (+- 0.057)</td>\n",
              "      <td>0.574 (+- 0.059)</td>\n",
              "      <td>0.604 (+- 0.055)</td>\n",
              "    </tr>\n",
              "    <tr>\n",
              "      <th>0</th>\n",
              "      <td>pendigits</td>\n",
              "      <td>10</td>\n",
              "      <td>0.622 (+- 0.041)</td>\n",
              "      <td>0.923 (+- 0.031)</td>\n",
              "      <td>0.974 (+- 0.023)</td>\n",
              "      <td>0.979 (+- 0.018)</td>\n",
              "    </tr>\n",
              "    <tr>\n",
              "      <th>1</th>\n",
              "      <td>pendigits</td>\n",
              "      <td>20</td>\n",
              "      <td>0.632 (+- 0.039)</td>\n",
              "      <td>0.917 (+- 0.035)</td>\n",
              "      <td>0.977 (+- 0.02)</td>\n",
              "      <td>0.977 (+- 0.017)</td>\n",
              "    </tr>\n",
              "    <tr>\n",
              "      <th>2</th>\n",
              "      <td>pendigits</td>\n",
              "      <td>40</td>\n",
              "      <td>0.635 (+- 0.034)</td>\n",
              "      <td>0.887 (+- 0.052)</td>\n",
              "      <td>0.953 (+- 0.03)</td>\n",
              "      <td>0.952 (+- 0.031)</td>\n",
              "    </tr>\n",
              "    <tr>\n",
              "      <th>3</th>\n",
              "      <td>pendigits</td>\n",
              "      <td>80</td>\n",
              "      <td>0.647 (+- 0.036)</td>\n",
              "      <td>0.855 (+- 0.048)</td>\n",
              "      <td>0.951 (+- 0.029)</td>\n",
              "      <td>0.95 (+- 0.03)</td>\n",
              "    </tr>\n",
              "    <tr>\n",
              "      <th>4</th>\n",
              "      <td>pendigits</td>\n",
              "      <td>160</td>\n",
              "      <td>0.631 (+- 0.046)</td>\n",
              "      <td>0.784 (+- 0.036)</td>\n",
              "      <td>0.947 (+- 0.03)</td>\n",
              "      <td>0.951 (+- 0.031)</td>\n",
              "    </tr>\n",
              "  </tbody>\n",
              "</table>\n",
              "</div>\n",
              "      <button class=\"colab-df-convert\" onclick=\"convertToInteractive('df-29e6c0ac-1799-4542-b9ac-804c74cd3f03')\"\n",
              "              title=\"Convert this dataframe to an interactive table.\"\n",
              "              style=\"display:none;\">\n",
              "        \n",
              "  <svg xmlns=\"http://www.w3.org/2000/svg\" height=\"24px\"viewBox=\"0 0 24 24\"\n",
              "       width=\"24px\">\n",
              "    <path d=\"M0 0h24v24H0V0z\" fill=\"none\"/>\n",
              "    <path d=\"M18.56 5.44l.94 2.06.94-2.06 2.06-.94-2.06-.94-.94-2.06-.94 2.06-2.06.94zm-11 1L8.5 8.5l.94-2.06 2.06-.94-2.06-.94L8.5 2.5l-.94 2.06-2.06.94zm10 10l.94 2.06.94-2.06 2.06-.94-2.06-.94-.94-2.06-.94 2.06-2.06.94z\"/><path d=\"M17.41 7.96l-1.37-1.37c-.4-.4-.92-.59-1.43-.59-.52 0-1.04.2-1.43.59L10.3 9.45l-7.72 7.72c-.78.78-.78 2.05 0 2.83L4 21.41c.39.39.9.59 1.41.59.51 0 1.02-.2 1.41-.59l7.78-7.78 2.81-2.81c.8-.78.8-2.07 0-2.86zM5.41 20L4 18.59l7.72-7.72 1.47 1.35L5.41 20z\"/>\n",
              "  </svg>\n",
              "      </button>\n",
              "      \n",
              "  <style>\n",
              "    .colab-df-container {\n",
              "      display:flex;\n",
              "      flex-wrap:wrap;\n",
              "      gap: 12px;\n",
              "    }\n",
              "\n",
              "    .colab-df-convert {\n",
              "      background-color: #E8F0FE;\n",
              "      border: none;\n",
              "      border-radius: 50%;\n",
              "      cursor: pointer;\n",
              "      display: none;\n",
              "      fill: #1967D2;\n",
              "      height: 32px;\n",
              "      padding: 0 0 0 0;\n",
              "      width: 32px;\n",
              "    }\n",
              "\n",
              "    .colab-df-convert:hover {\n",
              "      background-color: #E2EBFA;\n",
              "      box-shadow: 0px 1px 2px rgba(60, 64, 67, 0.3), 0px 1px 3px 1px rgba(60, 64, 67, 0.15);\n",
              "      fill: #174EA6;\n",
              "    }\n",
              "\n",
              "    [theme=dark] .colab-df-convert {\n",
              "      background-color: #3B4455;\n",
              "      fill: #D2E3FC;\n",
              "    }\n",
              "\n",
              "    [theme=dark] .colab-df-convert:hover {\n",
              "      background-color: #434B5C;\n",
              "      box-shadow: 0px 1px 3px 1px rgba(0, 0, 0, 0.15);\n",
              "      filter: drop-shadow(0px 1px 2px rgba(0, 0, 0, 0.3));\n",
              "      fill: #FFFFFF;\n",
              "    }\n",
              "  </style>\n",
              "\n",
              "      <script>\n",
              "        const buttonEl =\n",
              "          document.querySelector('#df-29e6c0ac-1799-4542-b9ac-804c74cd3f03 button.colab-df-convert');\n",
              "        buttonEl.style.display =\n",
              "          google.colab.kernel.accessAllowed ? 'block' : 'none';\n",
              "\n",
              "        async function convertToInteractive(key) {\n",
              "          const element = document.querySelector('#df-29e6c0ac-1799-4542-b9ac-804c74cd3f03');\n",
              "          const dataTable =\n",
              "            await google.colab.kernel.invokeFunction('convertToInteractive',\n",
              "                                                     [key], {});\n",
              "          if (!dataTable) return;\n",
              "\n",
              "          const docLinkHtml = 'Like what you see? Visit the ' +\n",
              "            '<a target=\"_blank\" href=https://colab.research.google.com/notebooks/data_table.ipynb>data table notebook</a>'\n",
              "            + ' to learn more about interactive tables.';\n",
              "          element.innerHTML = '';\n",
              "          dataTable['output_type'] = 'display_data';\n",
              "          await google.colab.output.renderOutput(dataTable, element);\n",
              "          const docLink = document.createElement('div');\n",
              "          docLink.innerHTML = docLinkHtml;\n",
              "          element.appendChild(docLink);\n",
              "        }\n",
              "      </script>\n",
              "    </div>\n",
              "  </div>\n",
              "  "
            ]
          },
          "metadata": {},
          "execution_count": 26
        }
      ]
    },
    {
      "cell_type": "code",
      "source": [
        "summary.to_latex(index=False)"
      ],
      "metadata": {
        "colab": {
          "base_uri": "https://localhost:8080/",
          "height": 122
        },
        "id": "us1Wh4FHSQve",
        "outputId": "91e4bd19-ce43-4f17-d821-53eb9da3c9ad"
      },
      "execution_count": null,
      "outputs": [
        {
          "output_type": "execute_result",
          "data": {
            "text/plain": [
              "'\\\\begin{tabular}{lrllll}\\n\\\\toprule\\n  dataset &   k &              pca &        laplacian &             tsne &             umap \\\\\\\\\\n\\\\midrule\\n   coil20 &  10 & 0.644 (+- 0.109) &  0.69 (+- 0.051) & 0.941 (+- 0.051) &  0.874 (+- 0.05) \\\\\\\\\\n   coil20 &  20 & 0.636 (+- 0.116) & 0.694 (+- 0.057) & 0.894 (+- 0.068) & 0.865 (+- 0.042) \\\\\\\\\\n   coil20 &  40 & 0.608 (+- 0.125) & 0.663 (+- 0.068) & 0.861 (+- 0.063) &  0.858 (+- 0.05) \\\\\\\\\\n   coil20 &  80 & 0.521 (+- 0.161) & 0.601 (+- 0.044) & 0.795 (+- 0.053) & 0.837 (+- 0.046) \\\\\\\\\\n   coil20 & 160 & 0.378 (+- 0.073) & 0.433 (+- 0.057) & 0.574 (+- 0.059) & 0.604 (+- 0.055) \\\\\\\\\\npendigits &  10 & 0.622 (+- 0.041) & 0.923 (+- 0.031) & 0.974 (+- 0.023) & 0.979 (+- 0.018) \\\\\\\\\\npendigits &  20 & 0.632 (+- 0.039) & 0.917 (+- 0.035) &  0.977 (+- 0.02) & 0.977 (+- 0.017) \\\\\\\\\\npendigits &  40 & 0.635 (+- 0.034) & 0.887 (+- 0.052) &  0.953 (+- 0.03) & 0.952 (+- 0.031) \\\\\\\\\\npendigits &  80 & 0.647 (+- 0.036) & 0.855 (+- 0.048) & 0.951 (+- 0.029) &   0.95 (+- 0.03) \\\\\\\\\\npendigits & 160 & 0.631 (+- 0.046) & 0.784 (+- 0.036) &  0.947 (+- 0.03) & 0.951 (+- 0.031) \\\\\\\\\\n\\\\bottomrule\\n\\\\end{tabular}\\n'"
            ],
            "application/vnd.google.colaboratory.intrinsic+json": {
              "type": "string"
            }
          },
          "metadata": {},
          "execution_count": 36
        }
      ]
    },
    {
      "cell_type": "markdown",
      "source": [
        "## Comparison of dimension reduction algorithms"
      ],
      "metadata": {
        "id": "r5mO4BbHWgo2"
      }
    },
    {
      "cell_type": "code",
      "source": [
        "obj=coil20\n",
        "method='umap'\n",
        "lis_embedds=[]\n",
        "\n",
        "for obj in lis_obj:\n",
        "  for method in ['pca', 'laplacian', 'tsne', 'umap']:\n",
        "    temp=pd.DataFrame(embeddings[obj.name][method])\n",
        "    temp.columns = ['dim1', 'dim2']\n",
        "    temp['method']= method\n",
        "    temp['data'] = obj.name\n",
        "    temp['label'] = obj.y\n",
        "    lis_embedds.append(temp)\n",
        "\n",
        "temp=pd.concat(lis_embedds)\n",
        "temp['label']=['c' + str(x) for x in temp.label.tolist()]"
      ],
      "metadata": {
        "id": "0U1oFLd3iOwH"
      },
      "execution_count": null,
      "outputs": []
    },
    {
      "cell_type": "code",
      "source": [
        "temp"
      ],
      "metadata": {
        "colab": {
          "base_uri": "https://localhost:8080/",
          "height": 424
        },
        "id": "85hlRe60Op0k",
        "outputId": "caec3b84-d506-4c92-bd63-bd5335d7bffb"
      },
      "execution_count": null,
      "outputs": [
        {
          "output_type": "execute_result",
          "data": {
            "text/plain": [
              "           dim1       dim2 method       data label\n",
              "0      0.027435   3.222702    pca     coil20    c1\n",
              "1     -0.291172   3.252688    pca     coil20    c1\n",
              "2     -0.737440   3.454651    pca     coil20    c1\n",
              "3     -1.096275   3.455837    pca     coil20    c1\n",
              "4     -1.609226   3.509030    pca     coil20    c1\n",
              "...         ...        ...    ...        ...   ...\n",
              "1792  -0.790495   5.449836   umap  pendigits    c9\n",
              "1793  16.872265   8.347258   umap  pendigits    c0\n",
              "1794  -4.965218  10.070849   umap  pendigits    c8\n",
              "1795  -0.723243   6.052888   umap  pendigits    c9\n",
              "1796  -4.456888  10.055157   umap  pendigits    c8\n",
              "\n",
              "[12948 rows x 5 columns]"
            ],
            "text/html": [
              "\n",
              "  <div id=\"df-ed7363ca-a9e8-487e-9b57-f4a79b9dbe6d\">\n",
              "    <div class=\"colab-df-container\">\n",
              "      <div>\n",
              "<style scoped>\n",
              "    .dataframe tbody tr th:only-of-type {\n",
              "        vertical-align: middle;\n",
              "    }\n",
              "\n",
              "    .dataframe tbody tr th {\n",
              "        vertical-align: top;\n",
              "    }\n",
              "\n",
              "    .dataframe thead th {\n",
              "        text-align: right;\n",
              "    }\n",
              "</style>\n",
              "<table border=\"1\" class=\"dataframe\">\n",
              "  <thead>\n",
              "    <tr style=\"text-align: right;\">\n",
              "      <th></th>\n",
              "      <th>dim1</th>\n",
              "      <th>dim2</th>\n",
              "      <th>method</th>\n",
              "      <th>data</th>\n",
              "      <th>label</th>\n",
              "    </tr>\n",
              "  </thead>\n",
              "  <tbody>\n",
              "    <tr>\n",
              "      <th>0</th>\n",
              "      <td>0.027435</td>\n",
              "      <td>3.222702</td>\n",
              "      <td>pca</td>\n",
              "      <td>coil20</td>\n",
              "      <td>c1</td>\n",
              "    </tr>\n",
              "    <tr>\n",
              "      <th>1</th>\n",
              "      <td>-0.291172</td>\n",
              "      <td>3.252688</td>\n",
              "      <td>pca</td>\n",
              "      <td>coil20</td>\n",
              "      <td>c1</td>\n",
              "    </tr>\n",
              "    <tr>\n",
              "      <th>2</th>\n",
              "      <td>-0.737440</td>\n",
              "      <td>3.454651</td>\n",
              "      <td>pca</td>\n",
              "      <td>coil20</td>\n",
              "      <td>c1</td>\n",
              "    </tr>\n",
              "    <tr>\n",
              "      <th>3</th>\n",
              "      <td>-1.096275</td>\n",
              "      <td>3.455837</td>\n",
              "      <td>pca</td>\n",
              "      <td>coil20</td>\n",
              "      <td>c1</td>\n",
              "    </tr>\n",
              "    <tr>\n",
              "      <th>4</th>\n",
              "      <td>-1.609226</td>\n",
              "      <td>3.509030</td>\n",
              "      <td>pca</td>\n",
              "      <td>coil20</td>\n",
              "      <td>c1</td>\n",
              "    </tr>\n",
              "    <tr>\n",
              "      <th>...</th>\n",
              "      <td>...</td>\n",
              "      <td>...</td>\n",
              "      <td>...</td>\n",
              "      <td>...</td>\n",
              "      <td>...</td>\n",
              "    </tr>\n",
              "    <tr>\n",
              "      <th>1792</th>\n",
              "      <td>-0.790495</td>\n",
              "      <td>5.449836</td>\n",
              "      <td>umap</td>\n",
              "      <td>pendigits</td>\n",
              "      <td>c9</td>\n",
              "    </tr>\n",
              "    <tr>\n",
              "      <th>1793</th>\n",
              "      <td>16.872265</td>\n",
              "      <td>8.347258</td>\n",
              "      <td>umap</td>\n",
              "      <td>pendigits</td>\n",
              "      <td>c0</td>\n",
              "    </tr>\n",
              "    <tr>\n",
              "      <th>1794</th>\n",
              "      <td>-4.965218</td>\n",
              "      <td>10.070849</td>\n",
              "      <td>umap</td>\n",
              "      <td>pendigits</td>\n",
              "      <td>c8</td>\n",
              "    </tr>\n",
              "    <tr>\n",
              "      <th>1795</th>\n",
              "      <td>-0.723243</td>\n",
              "      <td>6.052888</td>\n",
              "      <td>umap</td>\n",
              "      <td>pendigits</td>\n",
              "      <td>c9</td>\n",
              "    </tr>\n",
              "    <tr>\n",
              "      <th>1796</th>\n",
              "      <td>-4.456888</td>\n",
              "      <td>10.055157</td>\n",
              "      <td>umap</td>\n",
              "      <td>pendigits</td>\n",
              "      <td>c8</td>\n",
              "    </tr>\n",
              "  </tbody>\n",
              "</table>\n",
              "<p>12948 rows × 5 columns</p>\n",
              "</div>\n",
              "      <button class=\"colab-df-convert\" onclick=\"convertToInteractive('df-ed7363ca-a9e8-487e-9b57-f4a79b9dbe6d')\"\n",
              "              title=\"Convert this dataframe to an interactive table.\"\n",
              "              style=\"display:none;\">\n",
              "        \n",
              "  <svg xmlns=\"http://www.w3.org/2000/svg\" height=\"24px\"viewBox=\"0 0 24 24\"\n",
              "       width=\"24px\">\n",
              "    <path d=\"M0 0h24v24H0V0z\" fill=\"none\"/>\n",
              "    <path d=\"M18.56 5.44l.94 2.06.94-2.06 2.06-.94-2.06-.94-.94-2.06-.94 2.06-2.06.94zm-11 1L8.5 8.5l.94-2.06 2.06-.94-2.06-.94L8.5 2.5l-.94 2.06-2.06.94zm10 10l.94 2.06.94-2.06 2.06-.94-2.06-.94-.94-2.06-.94 2.06-2.06.94z\"/><path d=\"M17.41 7.96l-1.37-1.37c-.4-.4-.92-.59-1.43-.59-.52 0-1.04.2-1.43.59L10.3 9.45l-7.72 7.72c-.78.78-.78 2.05 0 2.83L4 21.41c.39.39.9.59 1.41.59.51 0 1.02-.2 1.41-.59l7.78-7.78 2.81-2.81c.8-.78.8-2.07 0-2.86zM5.41 20L4 18.59l7.72-7.72 1.47 1.35L5.41 20z\"/>\n",
              "  </svg>\n",
              "      </button>\n",
              "      \n",
              "  <style>\n",
              "    .colab-df-container {\n",
              "      display:flex;\n",
              "      flex-wrap:wrap;\n",
              "      gap: 12px;\n",
              "    }\n",
              "\n",
              "    .colab-df-convert {\n",
              "      background-color: #E8F0FE;\n",
              "      border: none;\n",
              "      border-radius: 50%;\n",
              "      cursor: pointer;\n",
              "      display: none;\n",
              "      fill: #1967D2;\n",
              "      height: 32px;\n",
              "      padding: 0 0 0 0;\n",
              "      width: 32px;\n",
              "    }\n",
              "\n",
              "    .colab-df-convert:hover {\n",
              "      background-color: #E2EBFA;\n",
              "      box-shadow: 0px 1px 2px rgba(60, 64, 67, 0.3), 0px 1px 3px 1px rgba(60, 64, 67, 0.15);\n",
              "      fill: #174EA6;\n",
              "    }\n",
              "\n",
              "    [theme=dark] .colab-df-convert {\n",
              "      background-color: #3B4455;\n",
              "      fill: #D2E3FC;\n",
              "    }\n",
              "\n",
              "    [theme=dark] .colab-df-convert:hover {\n",
              "      background-color: #434B5C;\n",
              "      box-shadow: 0px 1px 3px 1px rgba(0, 0, 0, 0.15);\n",
              "      filter: drop-shadow(0px 1px 2px rgba(0, 0, 0, 0.3));\n",
              "      fill: #FFFFFF;\n",
              "    }\n",
              "  </style>\n",
              "\n",
              "      <script>\n",
              "        const buttonEl =\n",
              "          document.querySelector('#df-ed7363ca-a9e8-487e-9b57-f4a79b9dbe6d button.colab-df-convert');\n",
              "        buttonEl.style.display =\n",
              "          google.colab.kernel.accessAllowed ? 'block' : 'none';\n",
              "\n",
              "        async function convertToInteractive(key) {\n",
              "          const element = document.querySelector('#df-ed7363ca-a9e8-487e-9b57-f4a79b9dbe6d');\n",
              "          const dataTable =\n",
              "            await google.colab.kernel.invokeFunction('convertToInteractive',\n",
              "                                                     [key], {});\n",
              "          if (!dataTable) return;\n",
              "\n",
              "          const docLinkHtml = 'Like what you see? Visit the ' +\n",
              "            '<a target=\"_blank\" href=https://colab.research.google.com/notebooks/data_table.ipynb>data table notebook</a>'\n",
              "            + ' to learn more about interactive tables.';\n",
              "          element.innerHTML = '';\n",
              "          dataTable['output_type'] = 'display_data';\n",
              "          await google.colab.output.renderOutput(dataTable, element);\n",
              "          const docLink = document.createElement('div');\n",
              "          docLink.innerHTML = docLinkHtml;\n",
              "          element.appendChild(docLink);\n",
              "        }\n",
              "      </script>\n",
              "    </div>\n",
              "  </div>\n",
              "  "
            ]
          },
          "metadata": {},
          "execution_count": 29
        }
      ]
    },
    {
      "cell_type": "code",
      "source": [
        "g = sns.FacetGrid(temp[temp['data']== 'coil20'], col=\"method\",sharex=False, sharey=False)\n",
        "g.map(sns.scatterplot, \"dim1\", \"dim2\",\"label\", s=3, palette='Spectral')\n",
        "g.add_legend()\n"
      ],
      "metadata": {
        "colab": {
          "base_uri": "https://localhost:8080/",
          "height": 361
        },
        "id": "L0f5MubKl7Kz",
        "outputId": "abdd97fd-c4d8-497f-e706-f45c42823eac"
      },
      "execution_count": null,
      "outputs": [
        {
          "output_type": "execute_result",
          "data": {
            "text/plain": [
              "<seaborn.axisgrid.FacetGrid at 0x7fc5051d91d0>"
            ]
          },
          "metadata": {},
          "execution_count": 30
        },
        {
          "output_type": "display_data",
          "data": {
            "text/plain": [
              "<Figure size 923.725x216 with 4 Axes>"
            ],
            "image/png": "[encoded data removed]"
          },
          "metadata": {}
        }
      ]
    },
    {
      "cell_type": "code",
      "source": [
        "g = sns.FacetGrid(temp[temp['data']== 'pendigits'], col=\"method\",sharex=False, sharey=False)\n",
        "g.map(sns.scatterplot, \"dim1\", \"dim2\",\"label\", s=3, palette='Spectral')\n",
        "g.add_legend()\n"
      ],
      "metadata": {
        "colab": {
          "base_uri": "https://localhost:8080/",
          "height": 238
        },
        "id": "WhfZITGwqK2u",
        "outputId": "5cfb9607-f5d3-4336-c339-ec37c60843bd"
      },
      "execution_count": null,
      "outputs": [
        {
          "output_type": "execute_result",
          "data": {
            "text/plain": [
              "<seaborn.axisgrid.FacetGrid at 0x7fc5051d9250>"
            ]
          },
          "metadata": {},
          "execution_count": 31
        },
        {
          "output_type": "display_data",
          "data": {
            "text/plain": [
              "<Figure size 916.725x216 with 4 Axes>"
            ],
            "image/png": "[encoded data removed]"
          },
          "metadata": {}
        }
      ]
    },
    {
      "cell_type": "markdown",
      "source": [
        "## Modifying a and b parameters"
      ],
      "metadata": {
        "id": "sfkPKNbMs4vx"
      }
    },
    {
      "cell_type": "code",
      "source": [
        "obj=pendigits\n",
        "vec_a=[1,3,5,7]\n",
        "vec_b=[0.25, 0.5, 0.75, 1]\n",
        "\n",
        "lis_embedds=[]\n",
        "for a in vec_a:\n",
        "  for b in vec_b:\n",
        "    # umap\n",
        "    reducer = umap.UMAP(random_state=42, a=a, b=b)\n",
        "    embedd=pd.DataFrame(reducer.fit_transform(obj.x))\n",
        "    embedd.columns = ['dim1', 'dim2']\n",
        "    embedd['a']= str(a) \n",
        "    embedd['b']= str(b)\n",
        "    embedd['label'] = obj.y\n",
        "    lis_embedds.append(embedd) \n"
      ],
      "metadata": {
        "id": "KvouIqMVs-f5"
      },
      "execution_count": null,
      "outputs": []
    },
    {
      "cell_type": "code",
      "source": [
        "embedd=pd.concat(lis_embedds)\n",
        "embedd['label']=['c' + str(x) for x in embedd.label.tolist()]"
      ],
      "metadata": {
        "id": "LNhpVLhDvQoB"
      },
      "execution_count": null,
      "outputs": []
    },
    {
      "cell_type": "code",
      "source": [
        "embedd"
      ],
      "metadata": {
        "colab": {
          "base_uri": "https://localhost:8080/",
          "height": 424
        },
        "id": "KcjxYoCUwktO",
        "outputId": "e9f5aa7a-a51b-4967-f617-39dc3311cbb2"
      },
      "execution_count": null,
      "outputs": [
        {
          "output_type": "execute_result",
          "data": {
            "text/plain": [
              "           dim1       dim2  a     b label\n",
              "0     34.527664  11.599895  1  0.25    c0\n",
              "1    -24.160902  -2.546719  1  0.25    c1\n",
              "2     -1.547929  -4.838167  1  0.25    c2\n",
              "3      3.624226  18.716593  1  0.25    c3\n",
              "4     15.300611  31.614914  1  0.25    c4\n",
              "...         ...        ... ..   ...   ...\n",
              "1792  -1.763707   6.421107  7     1    c9\n",
              "1793   9.512138   6.710313  7     1    c0\n",
              "1794   0.877345   8.119952  7     1    c8\n",
              "1795  -1.411329   6.468732  7     1    c9\n",
              "1796   0.550145   7.915435  7     1    c8\n",
              "\n",
              "[28752 rows x 5 columns]"
            ],
            "text/html": [
              "\n",
              "  <div id=\"df-ed33a545-b5c2-4f97-bf25-fdb459f9d95c\">\n",
              "    <div class=\"colab-df-container\">\n",
              "      <div>\n",
              "<style scoped>\n",
              "    .dataframe tbody tr th:only-of-type {\n",
              "        vertical-align: middle;\n",
              "    }\n",
              "\n",
              "    .dataframe tbody tr th {\n",
              "        vertical-align: top;\n",
              "    }\n",
              "\n",
              "    .dataframe thead th {\n",
              "        text-align: right;\n",
              "    }\n",
              "</style>\n",
              "<table border=\"1\" class=\"dataframe\">\n",
              "  <thead>\n",
              "    <tr style=\"text-align: right;\">\n",
              "      <th></th>\n",
              "      <th>dim1</th>\n",
              "      <th>dim2</th>\n",
              "      <th>a</th>\n",
              "      <th>b</th>\n",
              "      <th>label</th>\n",
              "    </tr>\n",
              "  </thead>\n",
              "  <tbody>\n",
              "    <tr>\n",
              "      <th>0</th>\n",
              "      <td>34.527664</td>\n",
              "      <td>11.599895</td>\n",
              "      <td>1</td>\n",
              "      <td>0.25</td>\n",
              "      <td>c0</td>\n",
              "    </tr>\n",
              "    <tr>\n",
              "      <th>1</th>\n",
              "      <td>-24.160902</td>\n",
              "      <td>-2.546719</td>\n",
              "      <td>1</td>\n",
              "      <td>0.25</td>\n",
              "      <td>c1</td>\n",
              "    </tr>\n",
              "    <tr>\n",
              "      <th>2</th>\n",
              "      <td>-1.547929</td>\n",
              "      <td>-4.838167</td>\n",
              "      <td>1</td>\n",
              "      <td>0.25</td>\n",
              "      <td>c2</td>\n",
              "    </tr>\n",
              "    <tr>\n",
              "      <th>3</th>\n",
              "      <td>3.624226</td>\n",
              "      <td>18.716593</td>\n",
              "      <td>1</td>\n",
              "      <td>0.25</td>\n",
              "      <td>c3</td>\n",
              "    </tr>\n",
              "    <tr>\n",
              "      <th>4</th>\n",
              "      <td>15.300611</td>\n",
              "      <td>31.614914</td>\n",
              "      <td>1</td>\n",
              "      <td>0.25</td>\n",
              "      <td>c4</td>\n",
              "    </tr>\n",
              "    <tr>\n",
              "      <th>...</th>\n",
              "      <td>...</td>\n",
              "      <td>...</td>\n",
              "      <td>...</td>\n",
              "      <td>...</td>\n",
              "      <td>...</td>\n",
              "    </tr>\n",
              "    <tr>\n",
              "      <th>1792</th>\n",
              "      <td>-1.763707</td>\n",
              "      <td>6.421107</td>\n",
              "      <td>7</td>\n",
              "      <td>1</td>\n",
              "      <td>c9</td>\n",
              "    </tr>\n",
              "    <tr>\n",
              "      <th>1793</th>\n",
              "      <td>9.512138</td>\n",
              "      <td>6.710313</td>\n",
              "      <td>7</td>\n",
              "      <td>1</td>\n",
              "      <td>c0</td>\n",
              "    </tr>\n",
              "    <tr>\n",
              "      <th>1794</th>\n",
              "      <td>0.877345</td>\n",
              "      <td>8.119952</td>\n",
              "      <td>7</td>\n",
              "      <td>1</td>\n",
              "      <td>c8</td>\n",
              "    </tr>\n",
              "    <tr>\n",
              "      <th>1795</th>\n",
              "      <td>-1.411329</td>\n",
              "      <td>6.468732</td>\n",
              "      <td>7</td>\n",
              "      <td>1</td>\n",
              "      <td>c9</td>\n",
              "    </tr>\n",
              "    <tr>\n",
              "      <th>1796</th>\n",
              "      <td>0.550145</td>\n",
              "      <td>7.915435</td>\n",
              "      <td>7</td>\n",
              "      <td>1</td>\n",
              "      <td>c8</td>\n",
              "    </tr>\n",
              "  </tbody>\n",
              "</table>\n",
              "<p>28752 rows × 5 columns</p>\n",
              "</div>\n",
              "      <button class=\"colab-df-convert\" onclick=\"convertToInteractive('df-ed33a545-b5c2-4f97-bf25-fdb459f9d95c')\"\n",
              "              title=\"Convert this dataframe to an interactive table.\"\n",
              "              style=\"display:none;\">\n",
              "        \n",
              "  <svg xmlns=\"http://www.w3.org/2000/svg\" height=\"24px\"viewBox=\"0 0 24 24\"\n",
              "       width=\"24px\">\n",
              "    <path d=\"M0 0h24v24H0V0z\" fill=\"none\"/>\n",
              "    <path d=\"M18.56 5.44l.94 2.06.94-2.06 2.06-.94-2.06-.94-.94-2.06-.94 2.06-2.06.94zm-11 1L8.5 8.5l.94-2.06 2.06-.94-2.06-.94L8.5 2.5l-.94 2.06-2.06.94zm10 10l.94 2.06.94-2.06 2.06-.94-2.06-.94-.94-2.06-.94 2.06-2.06.94z\"/><path d=\"M17.41 7.96l-1.37-1.37c-.4-.4-.92-.59-1.43-.59-.52 0-1.04.2-1.43.59L10.3 9.45l-7.72 7.72c-.78.78-.78 2.05 0 2.83L4 21.41c.39.39.9.59 1.41.59.51 0 1.02-.2 1.41-.59l7.78-7.78 2.81-2.81c.8-.78.8-2.07 0-2.86zM5.41 20L4 18.59l7.72-7.72 1.47 1.35L5.41 20z\"/>\n",
              "  </svg>\n",
              "      </button>\n",
              "      \n",
              "  <style>\n",
              "    .colab-df-container {\n",
              "      display:flex;\n",
              "      flex-wrap:wrap;\n",
              "      gap: 12px;\n",
              "    }\n",
              "\n",
              "    .colab-df-convert {\n",
              "      background-color: #E8F0FE;\n",
              "      border: none;\n",
              "      border-radius: 50%;\n",
              "      cursor: pointer;\n",
              "      display: none;\n",
              "      fill: #1967D2;\n",
              "      height: 32px;\n",
              "      padding: 0 0 0 0;\n",
              "      width: 32px;\n",
              "    }\n",
              "\n",
              "    .colab-df-convert:hover {\n",
              "      background-color: #E2EBFA;\n",
              "      box-shadow: 0px 1px 2px rgba(60, 64, 67, 0.3), 0px 1px 3px 1px rgba(60, 64, 67, 0.15);\n",
              "      fill: #174EA6;\n",
              "    }\n",
              "\n",
              "    [theme=dark] .colab-df-convert {\n",
              "      background-color: #3B4455;\n",
              "      fill: #D2E3FC;\n",
              "    }\n",
              "\n",
              "    [theme=dark] .colab-df-convert:hover {\n",
              "      background-color: #434B5C;\n",
              "      box-shadow: 0px 1px 3px 1px rgba(0, 0, 0, 0.15);\n",
              "      filter: drop-shadow(0px 1px 2px rgba(0, 0, 0, 0.3));\n",
              "      fill: #FFFFFF;\n",
              "    }\n",
              "  </style>\n",
              "\n",
              "      <script>\n",
              "        const buttonEl =\n",
              "          document.querySelector('#df-ed33a545-b5c2-4f97-bf25-fdb459f9d95c button.colab-df-convert');\n",
              "        buttonEl.style.display =\n",
              "          google.colab.kernel.accessAllowed ? 'block' : 'none';\n",
              "\n",
              "        async function convertToInteractive(key) {\n",
              "          const element = document.querySelector('#df-ed33a545-b5c2-4f97-bf25-fdb459f9d95c');\n",
              "          const dataTable =\n",
              "            await google.colab.kernel.invokeFunction('convertToInteractive',\n",
              "                                                     [key], {});\n",
              "          if (!dataTable) return;\n",
              "\n",
              "          const docLinkHtml = 'Like what you see? Visit the ' +\n",
              "            '<a target=\"_blank\" href=https://colab.research.google.com/notebooks/data_table.ipynb>data table notebook</a>'\n",
              "            + ' to learn more about interactive tables.';\n",
              "          element.innerHTML = '';\n",
              "          dataTable['output_type'] = 'display_data';\n",
              "          await google.colab.output.renderOutput(dataTable, element);\n",
              "          const docLink = document.createElement('div');\n",
              "          docLink.innerHTML = docLinkHtml;\n",
              "          element.appendChild(docLink);\n",
              "        }\n",
              "      </script>\n",
              "    </div>\n",
              "  </div>\n",
              "  "
            ]
          },
          "metadata": {},
          "execution_count": 34
        }
      ]
    },
    {
      "cell_type": "code",
      "source": [
        "g = sns.FacetGrid(embedd, col=\"a\", row=\"b\", sharex=False, sharey=False)\n",
        "g.map(sns.scatterplot, \"dim1\", \"dim2\", \"label\",  s=3, palette='Spectral')\n",
        "g.add_legend()"
      ],
      "metadata": {
        "colab": {
          "base_uri": "https://localhost:8080/",
          "height": 886
        },
        "id": "lNguB1_VwnOJ",
        "outputId": "6f4e77ba-7760-4091-8375-2f05e70e79a6"
      },
      "execution_count": null,
      "outputs": [
        {
          "output_type": "execute_result",
          "data": {
            "text/plain": [
              "<seaborn.axisgrid.FacetGrid at 0x7fc54b8d5d50>"
            ]
          },
          "metadata": {},
          "execution_count": 35
        },
        {
          "output_type": "display_data",
          "data": {
            "text/plain": [
              "<Figure size 916.725x864 with 16 Axes>"
            ],
            "image/png": "[encoded data removed]"
          },
          "metadata": {}
        }
      ]
    }
  ]
}
