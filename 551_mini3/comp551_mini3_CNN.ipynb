{
 "cells": [
  {
   "cell_type": "markdown",
   "metadata": {
    "id": "ySo2ebX0NJTv"
   },
   "source": [
    "# Comp 551 : Mini Project 3\n"
   ]
  },
  {
   "cell_type": "markdown",
   "metadata": {
    "id": "TPD0oCVcNNNt"
   },
   "source": [
    "This notebook contains the code for implementation of the CNN using pytorch"
   ]
  },
  {
   "cell_type": "markdown",
   "metadata": {
    "id": "5y63G3MZgCl0"
   },
   "source": [
    "#### Loading modules"
   ]
  },
  {
   "cell_type": "code",
   "execution_count": null,
   "metadata": {
    "id": "IljQ-0CkNFZa"
   },
   "outputs": [],
   "source": [
    "import numpy as np\n",
    "import pandas as pd\n",
    "#%matplotlib notebook\n",
    "%matplotlib inline\n",
    "import matplotlib.pyplot as plt\n",
    "from IPython.core.debugger import set_trace\n",
    "import warnings\n",
    "from keras.datasets import fashion_mnist\n",
    "warnings.filterwarnings('ignore')"
   ]
  },
  {
   "cell_type": "markdown",
   "metadata": {
    "id": "lWE-DNBnf1Kv"
   },
   "source": [
    "# Task 1: Acquire, preprocess, and analyze the data"
   ]
  },
  {
   "cell_type": "code",
   "execution_count": null,
   "metadata": {
    "id": "SzLOOB1nv2Uo"
   },
   "outputs": [],
   "source": [
    "def normalize(x, axis=0):\n",
    "  x= x - np.mean(x, axis=0) \n",
    "  x= x/ np.std(x, axis=0)\n",
    "  return(x)"
   ]
  },
  {
   "cell_type": "code",
   "execution_count": null,
   "metadata": {
    "colab": {
     "base_uri": "https://localhost:8080/"
    },
    "id": "-6XSdAWnfLXy",
    "outputId": "bdbf1b59-8543-4253-d4e1-5fdb7edf5c3c"
   },
   "outputs": [
    {
     "name": "stdout",
     "output_type": "stream",
     "text": [
      "Downloading data from https://storage.googleapis.com/tensorflow/tf-keras-datasets/train-labels-idx1-ubyte.gz\n",
      "32768/29515 [=================================] - 0s 0us/step\n",
      "40960/29515 [=========================================] - 0s 0us/step\n",
      "Downloading data from https://storage.googleapis.com/tensorflow/tf-keras-datasets/train-images-idx3-ubyte.gz\n",
      "26427392/26421880 [==============================] - 0s 0us/step\n",
      "26435584/26421880 [==============================] - 0s 0us/step\n",
      "Downloading data from https://storage.googleapis.com/tensorflow/tf-keras-datasets/t10k-labels-idx1-ubyte.gz\n",
      "16384/5148 [===============================================================================================] - 0s 0us/step\n",
      "Downloading data from https://storage.googleapis.com/tensorflow/tf-keras-datasets/t10k-images-idx3-ubyte.gz\n",
      "4423680/4422102 [==============================] - 0s 0us/step\n",
      "4431872/4422102 [==============================] - 0s 0us/step\n"
     ]
    }
   ],
   "source": [
    "(x_train, y_train), (x_test, y_test) = fashion_mnist.load_data()"
   ]
  },
  {
   "cell_type": "code",
   "execution_count": null,
   "metadata": {
    "colab": {
     "base_uri": "https://localhost:8080/"
    },
    "id": "UV4tApLYfTs_",
    "outputId": "db7608c8-9f59-462c-e2e5-9af4c39ab670"
   },
   "outputs": [
    {
     "name": "stdout",
     "output_type": "stream",
     "text": [
      "(60000, 28, 28)\n",
      "(60000,)\n",
      "(10000, 28, 28)\n",
      "(10000,)\n"
     ]
    }
   ],
   "source": [
    "print(x_train.shape)\n",
    "print(y_train.shape)\n",
    "print(x_test.shape)\n",
    "print(y_test.shape)"
   ]
  },
  {
   "cell_type": "code",
   "execution_count": null,
   "metadata": {
    "colab": {
     "base_uri": "https://localhost:8080/"
    },
    "id": "KuBPI0lV2DFZ",
    "outputId": "ad4bfb5c-1d6d-4f67-9093-6bd9caa52212"
   },
   "outputs": [
    {
     "data": {
      "text/plain": [
       "array([9, 0, 0, ..., 3, 0, 5], dtype=uint8)"
      ]
     },
     "execution_count": 5,
     "metadata": {},
     "output_type": "execute_result"
    }
   ],
   "source": [
    "y_train"
   ]
  },
  {
   "cell_type": "code",
   "execution_count": null,
   "metadata": {
    "colab": {
     "base_uri": "https://localhost:8080/"
    },
    "id": "T1MXUG7-h1oS",
    "outputId": "f7ebea78-1f89-4dc3-fbad-a5b69dfe3834"
   },
   "outputs": [
    {
     "data": {
      "text/plain": [
       "(28, 28)"
      ]
     },
     "execution_count": 6,
     "metadata": {},
     "output_type": "execute_result"
    }
   ],
   "source": [
    "x_train[0].shape"
   ]
  },
  {
   "cell_type": "code",
   "execution_count": null,
   "metadata": {
    "id": "fqh5RKy7wFrM"
   },
   "outputs": [],
   "source": [
    "d1, d2, d3 = x_train.shape\n",
    "x_train=  x_train.reshape((d1, d2*d3))\n",
    "d1, d2, d3 = x_test.shape\n",
    "x_test = x_test.reshape((d1, d2*d3))"
   ]
  },
  {
   "cell_type": "code",
   "execution_count": null,
   "metadata": {
    "colab": {
     "base_uri": "https://localhost:8080/"
    },
    "id": "6OEiVXg4wTae",
    "outputId": "e7484355-6206-45dd-823e-cf4a3f486e0d"
   },
   "outputs": [
    {
     "name": "stdout",
     "output_type": "stream",
     "text": [
      "(60000, 784)\n",
      "(10000, 784)\n"
     ]
    }
   ],
   "source": [
    "print(x_train.shape)\n",
    "print(x_test.shape)"
   ]
  },
  {
   "cell_type": "code",
   "execution_count": null,
   "metadata": {
    "id": "djJ_WcBAgNgs"
   },
   "outputs": [],
   "source": [
    "x_train_raw=x_train\n",
    "x_test_raw=x_test"
   ]
  },
  {
   "cell_type": "code",
   "execution_count": null,
   "metadata": {
    "id": "i018VD9Vwsmk"
   },
   "outputs": [],
   "source": [
    "x_train= normalize(x_train)\n",
    "x_test = normalize(x_test)"
   ]
  },
  {
   "cell_type": "code",
   "execution_count": null,
   "metadata": {
    "id": "0IIyKjxtAWdV"
   },
   "outputs": [],
   "source": [
    "y_train = np.array(pd.get_dummies(y_train))\n",
    "y_test = np.array(pd.get_dummies(y_test))"
   ]
  },
  {
   "cell_type": "code",
   "execution_count": null,
   "metadata": {
    "colab": {
     "base_uri": "https://localhost:8080/"
    },
    "id": "-BPhbAAZbhVB",
    "outputId": "7a5c6697-eefd-4436-d905-a388afddab2c"
   },
   "outputs": [
    {
     "data": {
      "text/plain": [
       "array([[-0.02322333, -0.03917806, -0.04132172, -0.05764574,  0.10043738,\n",
       "        -0.09887846, -0.15665259, -0.23908034, -0.37782706],\n",
       "       [-0.02322333, -0.03917806, -0.04132172, -0.05764574, -0.07116733,\n",
       "        -0.09887846, -0.15665259, -0.23908034,  0.19802309],\n",
       "       [-0.02322333, -0.03917806, -0.04132172, -0.05764574, -0.07116733,\n",
       "        -0.09887846, -0.15665259,  1.14539285,  2.13497356],\n",
       "       [-0.02322333, -0.03917806, -0.04132172, -0.05764574, -0.07116733,\n",
       "        -0.09887846, -0.15665259, -0.23908034, -0.37782706],\n",
       "       [-0.02322333, -0.03917806, -0.04132172,  0.17322968, -0.07116733,\n",
       "        -0.09887846, -0.15665259, -0.23908034,  0.19802309],\n",
       "       [-0.02322333, -0.03917806, -0.04132172, -0.05764574, -0.07116733,\n",
       "        -0.09887846, -0.15665259, -0.23908034, -0.37782706],\n",
       "       [-0.02322333, -0.03917806, -0.04132172, -0.05764574,  0.10043738,\n",
       "         0.02146044, -0.15665259, -0.23908034, -0.37782706],\n",
       "       [-0.02322333, -0.03917806, -0.04132172, -0.05764574, -0.07116733,\n",
       "        -0.09887846, -0.15665259, -0.23908034, -0.37782706],\n",
       "       [-0.02322333, -0.03917806, -0.04132172, -0.05764574, -0.07116733,\n",
       "        -0.09887846, -0.15665259, -0.23908034, -0.37782706]])"
      ]
     },
     "execution_count": 12,
     "metadata": {},
     "output_type": "execute_result"
    }
   ],
   "source": [
    "x_train[1:10, 1:10]"
   ]
  },
  {
   "cell_type": "code",
   "execution_count": null,
   "metadata": {
    "colab": {
     "base_uri": "https://localhost:8080/"
    },
    "id": "ovW2Vfrbbj_S",
    "outputId": "6d2ec1f6-d874-49a4-9ba6-04f0b042d140"
   },
   "outputs": [
    {
     "data": {
      "text/plain": [
       "array([[ 0,  0,  0,  0,  1,  0,  0,  0,  0],\n",
       "       [ 0,  0,  0,  0,  0,  0,  0,  0, 22],\n",
       "       [ 0,  0,  0,  0,  0,  0,  0, 33, 96],\n",
       "       [ 0,  0,  0,  0,  0,  0,  0,  0,  0],\n",
       "       [ 0,  0,  0,  1,  0,  0,  0,  0, 22],\n",
       "       [ 0,  0,  0,  0,  0,  0,  0,  0,  0],\n",
       "       [ 0,  0,  0,  0,  1,  1,  0,  0,  0],\n",
       "       [ 0,  0,  0,  0,  0,  0,  0,  0,  0],\n",
       "       [ 0,  0,  0,  0,  0,  0,  0,  0,  0]], dtype=uint8)"
      ]
     },
     "execution_count": 13,
     "metadata": {},
     "output_type": "execute_result"
    }
   ],
   "source": [
    "x_train_raw[1:10,1:10]"
   ]
  },
  {
   "cell_type": "code",
   "execution_count": null,
   "metadata": {
    "colab": {
     "base_uri": "https://localhost:8080/"
    },
    "id": "VmVJHvrFbtoB",
    "outputId": "09e64671-bcae-4edb-b8cb-49dea7b3f938"
   },
   "outputs": [
    {
     "data": {
      "text/plain": [
       "array([[-0.02066217, -0.02378436, -0.03286191, -0.04889502, -0.06284215,\n",
       "        -0.0932637 , -0.15313442, -0.22980777, -0.37443952],\n",
       "       [-0.02066217, -0.02378436, -0.03286191, -0.04889502, -0.06284215,\n",
       "        -0.0932637 , -0.15313442, -0.18605403, -0.37443952],\n",
       "       [-0.02066217, -0.02378436, -0.03286191, -0.04889502, -0.06284215,\n",
       "        -0.0932637 , -0.15313442, -0.22980777,  0.17689793],\n",
       "       [-0.02066217, -0.02378436,  0.91416727, -0.04889502,  0.10577107,\n",
       "         0.04184234, -0.15313442, -0.22980777, -0.37443952],\n",
       "       [-0.02066217, -0.02378436, -0.03286191, -0.04889502, -0.06284215,\n",
       "        -0.0932637 , -0.15313442, -0.22980777, -0.37443952],\n",
       "       [-0.02066217, -0.02378436, -0.03286191, -0.04889502, -0.06284215,\n",
       "        -0.0932637 , -0.15313442, -0.18605403, -0.37443952],\n",
       "       [-0.02066217, -0.02378436, -0.03286191, -0.04889502, -0.06284215,\n",
       "        -0.0932637 , -0.15313442, -0.14230029, -0.29567703],\n",
       "       [-0.02066217, -0.02378436, -0.03286191, -0.04889502, -0.06284215,\n",
       "        -0.0932637 , -0.15313442, -0.22980777, -0.37443952],\n",
       "       [-0.02066217, -0.02378436, -0.03286191, -0.04889502, -0.06284215,\n",
       "        -0.0932637 , -0.15313442, -0.22980777, -0.37443952]])"
      ]
     },
     "execution_count": 14,
     "metadata": {},
     "output_type": "execute_result"
    }
   ],
   "source": [
    "x_test[1:10, 1:10]"
   ]
  },
  {
   "cell_type": "code",
   "execution_count": null,
   "metadata": {
    "colab": {
     "base_uri": "https://localhost:8080/"
    },
    "id": "8fArL_7tbv_2",
    "outputId": "759de356-dae4-4adf-9c36-1d61bb4b3156"
   },
   "outputs": [
    {
     "data": {
      "text/plain": [
       "array([[ 0,  0,  0,  0,  0,  0,  0,  0,  0],\n",
       "       [ 0,  0,  0,  0,  0,  0,  0,  1,  0],\n",
       "       [ 0,  0,  0,  0,  0,  0,  0,  0, 21],\n",
       "       [ 0,  0,  2,  0,  1,  1,  0,  0,  0],\n",
       "       [ 0,  0,  0,  0,  0,  0,  0,  0,  0],\n",
       "       [ 0,  0,  0,  0,  0,  0,  0,  1,  0],\n",
       "       [ 0,  0,  0,  0,  0,  0,  0,  2,  3],\n",
       "       [ 0,  0,  0,  0,  0,  0,  0,  0,  0],\n",
       "       [ 0,  0,  0,  0,  0,  0,  0,  0,  0]], dtype=uint8)"
      ]
     },
     "execution_count": 15,
     "metadata": {},
     "output_type": "execute_result"
    }
   ],
   "source": [
    "x_test_raw[1:10,1:10]"
   ]
  },
  {
   "cell_type": "markdown",
   "metadata": {
    "id": "W688oZoj_24w"
   },
   "source": [
    "# Task 3: Run the experiments"
   ]
  },
  {
   "cell_type": "markdown",
   "metadata": {
    "id": "iUAx-40hx0Zr"
   },
   "source": [
    "## Task 3.5: Implement CNN"
   ]
  },
  {
   "cell_type": "code",
   "execution_count": null,
   "metadata": {
    "id": "3H1Fmn8H0Xsg"
   },
   "outputs": [],
   "source": [
    "import torch\n",
    "import torch.nn.functional as F\n",
    "import torch.optim as optim"
   ]
  },
  {
   "cell_type": "code",
   "execution_count": null,
   "metadata": {
    "id": "FUbTHvHWxzlZ"
   },
   "outputs": [],
   "source": [
    "class CNN(torch.nn.Module):\n",
    "  def __init__(self,kernel_size,stride):\n",
    "    super(CNN, self).__init__()\n",
    "    self.conv1 = torch.nn.Conv2d(1,1,kernel_size,stride)\n",
    "    self.conv2 = torch.nn.Conv2d(1,1,kernel_size,stride)\n",
    "    self.conv_img_size = (28//(stride**2)-((kernel_size-1) * 2))*(28//(stride**2)-((kernel_size-1) * 2))\n",
    "    self.fc1 = torch.nn.Linear(self.conv_img_size,128)\n",
    "    self.fc2 = torch.nn.Linear(128,128)\n",
    "    self.out = torch.nn.Linear(128,10)\n",
    "\n",
    "  def forward(self, x):\n",
    "    x = F.relu(self.conv1(x))\n",
    "    x = F.relu(self.conv2(x))\n",
    "    x = x.view(-1,self.conv_img_size)\n",
    "    x = F.relu(self.fc1(x))\n",
    "    x = F.relu(self.fc2(x))\n",
    "    x = F.relu(self.out(x))\n",
    "    return x\n",
    "  \n",
    "  def train(self,input,target,test_x,test_y,loss_fn,learning_rate,num_steps):\n",
    "    optimizer = optim.SGD(self.parameters(),lr = learning_rate)\n",
    "    training_accs = []\n",
    "    test_accs = []\n",
    "    for i in range(num_steps):\n",
    "        optimizer.zero_grad()\n",
    "        output = self(input)\n",
    "        loss = loss_fn(output,target)\n",
    "        loss.backward()\n",
    "        optimizer.step()\n",
    "        training_accs.append(eval_acc_tensor(self(x_test_torch),y_test_torch))\n",
    "        test_accs.append(eval_acc_tensor(self(x_train_torch),y_train_torch))\n",
    "    return training_accs, test_accs\n",
    "\n"
   ]
  },
  {
   "cell_type": "code",
   "execution_count": null,
   "metadata": {
    "colab": {
     "base_uri": "https://localhost:8080/"
    },
    "id": "qVPi4KdkUf8v",
    "outputId": "92c6ae37-7275-4506-ff75-13c73078bf46"
   },
   "outputs": [
    {
     "name": "stdout",
     "output_type": "stream",
     "text": [
      "torch.Size([60000, 1, 28, 28])\n",
      "torch.Size([60000])\n",
      "torch.Size([10000, 1, 28, 28])\n",
      "torch.Size([10000])\n",
      "torch.FloatTensor\n",
      "torch.FloatTensor\n",
      "torch.ByteTensor\n",
      "torch.ByteTensor\n"
     ]
    }
   ],
   "source": [
    "(x_train_torch_raw, y_train_torch), (x_test_torch_raw, y_test_torch) = fashion_mnist.load_data() #getting the data again because it needs to be formatted differently for PyTorch\n",
    "x_train_torch_raw = torch.tensor(x_train_torch_raw)\n",
    "y_train_torch = torch.tensor(y_train_torch)#,dtype = torch.float)\n",
    "x_test_torch_raw = torch.tensor(x_test_torch_raw)\n",
    "y_test_torch = torch.tensor(y_test_torch)#,dtype = torch.float)\n",
    "\n",
    "x_train_torch = torch.zeros((60000,1,28,28))\n",
    "x_test_torch = torch.zeros((10000,1,28,28))\n",
    "\n",
    "x_train_torch[:,0,:,:] = x_train_torch_raw[:,:,:]\n",
    "x_test_torch[:,0,:,:] = x_test_torch_raw[:,:,:]\n",
    "\n",
    "#Dividing the training data set size by 5 because PyTorch kept getting memory usage issues calculating the loss\n",
    "#x_train_torch = x_train_torch[:12000,:,:,:]\n",
    "#y_train_torch = y_train_torch[:12000]\n",
    "\n",
    "print(x_train_torch.shape)\n",
    "print(y_train_torch.shape)\n",
    "print(x_test_torch.shape)\n",
    "print(y_test_torch.shape)\n",
    "\n",
    "print(x_train_torch.type())\n",
    "print(x_test_torch.type())\n",
    "print(y_train_torch.type())\n",
    "print(y_test_torch.type())"
   ]
  },
  {
   "cell_type": "code",
   "execution_count": null,
   "metadata": {
    "id": "rBO7LlShC8Vv"
   },
   "outputs": [],
   "source": [
    "def eval_acc_tensor(y,yh):\n",
    "  return evaluate_acc(np.argmax(y.detach().numpy(),axis=1),yh.detach().numpy().astype(int))"
   ]
  },
  {
   "cell_type": "code",
   "execution_count": null,
   "metadata": {
    "id": "KZLp8NDq54Al"
   },
   "outputs": [],
   "source": [
    "cnn = CNN(5,1)\n",
    "loss_fn_torch = torch.nn.CrossEntropyLoss()\n",
    "training_accs, test_accs = cnn.train(x_train_torch,y_train_torch,x_test_torch,y_test_torch,loss_fn_torch,0.01,100)"
   ]
  },
  {
   "cell_type": "code",
   "execution_count": null,
   "metadata": {
    "colab": {
     "base_uri": "https://localhost:8080/",
     "height": 313
    },
    "id": "Cistrt3EH5fW",
    "outputId": "e13ae250-79cd-4fee-916f-b7183b839ea0"
   },
   "outputs": [
    {
     "data": {
      "image/png": "[encoded data removed]",
      "text/plain": [
       "<Figure size 432x288 with 1 Axes>"
      ]
     },
     "metadata": {
      "needs_background": "light"
     },
     "output_type": "display_data"
    },
    {
     "name": "stdout",
     "output_type": "stream",
     "text": [
      "0.7619 0.7707666666666667\n"
     ]
    }
   ],
   "source": [
    "plt.plot(training_accs,label = \"Training Set\")\n",
    "plt.plot(test_accs,label = \"Testing Set\")\n",
    "plt.ylabel(\"Accuracy\")\n",
    "plt.xlabel(\"Epoch\")\n",
    "plt.title(\"Accuracy of PyTorch CNN Over Time\")\n",
    "plt.legend(bbox_to_anchor=(1.05, 1), loc=2, borderaxespad=0.)\n",
    "plt.show()\n",
    "print(training_accs[-1],test_accs[-1])"
   ]
  }
 ],
 "metadata": {
  "colab": {
   "collapsed_sections": [],
   "name": "comp551_mini3_1.7",
   "provenance": [],
   "toc_visible": true
  },
  "kernelspec": {
   "display_name": "Python 3",
   "language": "python",
   "name": "python3"
  },
  "language_info": {
   "codemirror_mode": {
    "name": "ipython",
    "version": 3
   },
   "file_extension": ".py",
   "mimetype": "text/x-python",
   "name": "python",
   "nbconvert_exporter": "python",
   "pygments_lexer": "ipython3",
   "version": "3.7.1"
  }
 },
 "nbformat": 4,
 "nbformat_minor": 4
}
